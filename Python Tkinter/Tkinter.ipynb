{
 "cells": [
  {
   "cell_type": "markdown",
   "metadata": {},
   "source": [
    "### Hello world program"
   ]
  },
  {
   "cell_type": "code",
   "execution_count": 6,
   "metadata": {},
   "outputs": [],
   "source": [
    "from tkinter import *\n",
    "\n",
    "root = Tk() #this will make a window in which we want GUI\n",
    "label1 = Label(root, text='Hello World!!') #label to be added to window which will pop up\n",
    "label1.pack() #to close the package of label and attach it to window\n",
    "\n",
    "root.mainloop() #this process is too quick that we can't see so we add this loop so we can see as long we want."
   ]
  },
  {
   "cell_type": "markdown",
   "metadata": {},
   "source": [
    "### Using frames"
   ]
  },
  {
   "cell_type": "code",
   "execution_count": 2,
   "metadata": {},
   "outputs": [],
   "source": [
    "from tkinter import *\n",
    "\n",
    "root = Tk()\n",
    "\n",
    "new_frame = Frame(root)\n",
    "new_frame.pack(side=RIGHT)\n",
    "\n",
    "other_frame = Frame(root)\n",
    "other_frame.pack(side=LEFT)\n",
    "\n",
    "button1 = Button(new_frame, text='click here', fg='Red')\n",
    "button2 = Button(other_frame, text='click here', fg='Green')\n",
    "\n",
    "button1.pack()\n",
    "button2.pack()\n",
    "\n",
    "root.mainloop()"
   ]
  },
  {
   "cell_type": "markdown",
   "metadata": {},
   "source": [
    "### Grid layout"
   ]
  },
  {
   "cell_type": "code",
   "execution_count": 10,
   "metadata": {},
   "outputs": [],
   "source": [
    "from tkinter import *\n",
    "\n",
    "root = Tk()\n",
    "\n",
    "label1 = Label(root, text=\"First Name\")\n",
    "label2 = Label(root, text=\"Last Name\")\n",
    "\n",
    "entry1 = Entry(root)\n",
    "entry2 = Entry(root)\n",
    "\n",
    "label1.grid(row=0, column=0)\n",
    "label2.grid(row=1, column=0)\n",
    "\n",
    "entry1.grid(row=0, column=1)\n",
    "entry2.grid(row=1, column=1)\n",
    "\n",
    "root.mainloop()"
   ]
  },
  {
   "cell_type": "markdown",
   "metadata": {},
   "source": [
    "### Self adjusting widgets"
   ]
  },
  {
   "cell_type": "code",
   "execution_count": 4,
   "metadata": {},
   "outputs": [],
   "source": [
    "from tkinter import *\n",
    "\n",
    "root = Tk()\n",
    "\n",
    "label1 = Label(root, text='First', bg='Black', fg='Yellow')\n",
    "label2 = Label(root, text='Second', bg='Blue', fg='White')\n",
    "\n",
    "label1.pack(fill=X)\n",
    "label2.pack(side=RIGHT ,fill=Y)\n",
    "\n",
    "root.mainloop()"
   ]
  },
  {
   "cell_type": "markdown",
   "metadata": {},
   "source": [
    "### Handeling button clicks"
   ]
  },
  {
   "cell_type": "code",
   "execution_count": 4,
   "metadata": {
    "scrolled": true
   },
   "outputs": [
    {
     "name": "stdout",
     "output_type": "stream",
     "text": [
      "You clicked the button\n",
      "You clicked the button\n",
      "You clicked the button\n",
      "You clicked the button\n"
     ]
    }
   ],
   "source": [
    "from tkinter import *\n",
    "\n",
    "root = Tk()\n",
    "\n",
    "def dosomething():\n",
    "    print('You clicked the button')\n",
    "    \n",
    "button1 = Button(root, text='click here', fg='Black', bg='Yellow', command=dosomething)\n",
    "button1.pack()\n",
    "\n",
    "root.mainloop()"
   ]
  },
  {
   "cell_type": "markdown",
   "metadata": {},
   "source": [
    "### Using classes"
   ]
  },
  {
   "cell_type": "code",
   "execution_count": 3,
   "metadata": {},
   "outputs": [],
   "source": [
    "from tkinter import *\n",
    "\n",
    "class MyButtons:\n",
    "    def __init__(self, rootone):\n",
    "        \n",
    "        frame = Frame(rootone)\n",
    "        frame.pack()\n",
    "        \n",
    "        self.button1 = Button(frame, text='Click Here', command=self.printmessage)\n",
    "        self.button1.pack()\n",
    "        \n",
    "        self.button2 = Button(frame, text='Exit', command=rootone.destroy)\n",
    "        self.button2.pack()\n",
    "        \n",
    "    def printmessage(self):\n",
    "        print('You clicked the button')\n",
    "        \n",
    "root = Tk()\n",
    "\n",
    "obj = MyButtons(root)\n",
    "\n",
    "root.mainloop()"
   ]
  },
  {
   "cell_type": "markdown",
   "metadata": {},
   "source": [
    "### Using dropdowns"
   ]
  },
  {
   "cell_type": "code",
   "execution_count": 2,
   "metadata": {},
   "outputs": [],
   "source": [
    "from tkinter import *\n",
    "\n",
    "root = Tk()\n",
    "\n",
    "def function():\n",
    "    print('This is choosen')\n",
    "    \n",
    "mymenu = Menu(root)\n",
    "root.config(menu=mymenu)\n",
    "\n",
    "submenu = Menu(mymenu)\n",
    "\n",
    "mymenu.add_cascade(label='File', menu=submenu)\n",
    "\n",
    "submenu.add_command(label='project', command=function)\n",
    "submenu.add_command(label='save', command=function)\n",
    "\n",
    "submenu.add_separator()\n",
    "\n",
    "submenu.add_command(label='exit', command=function)\n",
    "\n",
    "newmenu = Menu(mymenu)\n",
    "\n",
    "mymenu.add_cascade(label='edit', menu=newmenu)\n",
    "\n",
    "newmenu.add_command(label='maximize', command=function)\n",
    "\n",
    "root.mainloop()"
   ]
  },
  {
   "cell_type": "markdown",
   "metadata": {},
   "source": [
    "### Tool bar"
   ]
  },
  {
   "cell_type": "code",
   "execution_count": 1,
   "metadata": {},
   "outputs": [],
   "source": [
    "from tkinter import *\n",
    "\n",
    "root = Tk()\n",
    "\n",
    "toolbar = Frame(root, bg=\"Pink\")\n",
    "\n",
    "def function():\n",
    "    print('Hello mf')\n",
    "\n",
    "insertbutton = Button(toolbar, text='insert data', command=function)\n",
    "insertbutton.pack(side=LEFT, padx=2, pady=3)\n",
    "\n",
    "printbutton = Button(toolbar, text='print', command=function)\n",
    "printbutton.pack(side=LEFT, padx=2, pady=3)\n",
    "\n",
    "toolbar.pack(side=TOP, fill=X)\n",
    "\n",
    "root.mainloop()"
   ]
  },
  {
   "cell_type": "markdown",
   "metadata": {},
   "source": [
    "### Status bar"
   ]
  },
  {
   "cell_type": "code",
   "execution_count": 26,
   "metadata": {},
   "outputs": [],
   "source": [
    "from tkinter import *\n",
    "\n",
    "root = Tk()\n",
    "\n",
    "status = Label(root, text='This is the status', bd=1, relief=SUNKEN, anchor=W)\n",
    "status.pack(side=BOTTOM, fill=X)\n",
    "\n",
    "root.mainloop()"
   ]
  },
  {
   "cell_type": "markdown",
   "metadata": {},
   "source": [
    "### Message box"
   ]
  },
  {
   "cell_type": "code",
   "execution_count": 8,
   "metadata": {},
   "outputs": [
    {
     "name": "stdout",
     "output_type": "stream",
     "text": [
      "I know that already\n"
     ]
    }
   ],
   "source": [
    "import tkinter.messagebox\n",
    "\n",
    "root = Tk()\n",
    "\n",
    "tkinter.messagebox.showinfo('Title','Gandu!!')\n",
    "\n",
    "response = tkinter.messagebox.askquestion('question', 'Are you a gandu??')\n",
    "\n",
    "if response=='yes':\n",
    "    print('I know that already')\n",
    "else:\n",
    "    print('Chal apne baap ko mat sikha')\n",
    "    \n",
    "root.mainloop()"
   ]
  },
  {
   "cell_type": "markdown",
   "metadata": {},
   "source": [
    "### Drawing"
   ]
  },
  {
   "cell_type": "code",
   "execution_count": 9,
   "metadata": {},
   "outputs": [],
   "source": [
    "from tkinter import *\n",
    "\n",
    "root = Tk()\n",
    "\n",
    "canvas = Canvas(root, width=200, height=100)\n",
    "canvas.pack()\n",
    "\n",
    "newline = canvas.create_line(0,0,100,100)\n",
    "\n",
    "root.mainloop()"
   ]
  }
 ],
 "metadata": {
  "kernelspec": {
   "display_name": "Python 3",
   "language": "python",
   "name": "python3"
  },
  "language_info": {
   "codemirror_mode": {
    "name": "ipython",
    "version": 3
   },
   "file_extension": ".py",
   "mimetype": "text/x-python",
   "name": "python",
   "nbconvert_exporter": "python",
   "pygments_lexer": "ipython3",
   "version": "3.6.9"
  }
 },
 "nbformat": 4,
 "nbformat_minor": 2
}
