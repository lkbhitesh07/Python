{
 "cells": [
  {
   "cell_type": "markdown",
   "metadata": {},
   "source": [
    "# Try and Except"
   ]
  },
  {
   "cell_type": "code",
   "execution_count": 2,
   "metadata": {},
   "outputs": [
    {
     "name": "stdout",
     "output_type": "stream",
     "text": [
      "Incorrect input\n"
     ]
    }
   ],
   "source": [
    "try:\n",
    "    a = 10\n",
    "    b = 0\n",
    "    print(a/b)\n",
    "except ZeroDivisionError:\n",
    "    print(\"Incorrect input\")"
   ]
  },
  {
   "cell_type": "code",
   "execution_count": 3,
   "metadata": {},
   "outputs": [
    {
     "name": "stdout",
     "output_type": "stream",
     "text": [
      "5.0\n"
     ]
    }
   ],
   "source": [
    "try:\n",
    "    a = 10\n",
    "    b = 2\n",
    "    print(a/b)\n",
    "except ZeroDivisionError:\n",
    "    print(\"Incorrect input\")"
   ]
  },
  {
   "cell_type": "markdown",
   "metadata": {},
   "source": [
    "# Finally"
   ]
  },
  {
   "cell_type": "code",
   "execution_count": 4,
   "metadata": {},
   "outputs": [
    {
     "name": "stdout",
     "output_type": "stream",
     "text": [
      "Incorrect input\n",
      "This is going to execute no matter what\n"
     ]
    }
   ],
   "source": [
    "try:\n",
    "    a = 10\n",
    "    b = 0\n",
    "    print(a/b)\n",
    "except ZeroDivisionError:\n",
    "    print(\"Incorrect input\")\n",
    "finally:\n",
    "    print(\"This is going to execute no matter what\")"
   ]
  },
  {
   "cell_type": "markdown",
   "metadata": {},
   "source": [
    "# File handeling"
   ]
  },
  {
   "cell_type": "code",
   "execution_count": 9,
   "metadata": {},
   "outputs": [
    {
     "name": "stdout",
     "output_type": "stream",
     "text": [
      "Hello,\n",
      "First line\n",
      "Second line MF\n"
     ]
    }
   ],
   "source": [
    "file = open(\"demo.txt\", 'r')\n",
    "content = file.read()\n",
    "print(content)\n",
    "file.close()"
   ]
  },
  {
   "cell_type": "code",
   "execution_count": 10,
   "metadata": {},
   "outputs": [
    {
     "name": "stdout",
     "output_type": "stream",
     "text": [
      "Hello MF\n"
     ]
    }
   ],
   "source": [
    "file = open(\"demo.txt\", 'w')\n",
    "file.write('Hello MF')\n",
    "file.close()\n",
    "\n",
    "file = open(\"demo.txt\", 'r')\n",
    "content = file.read()\n",
    "print(content)\n",
    "file.close()\n",
    "\n",
    "# If we add another line via code then the previous line gets deleted."
   ]
  },
  {
   "cell_type": "markdown",
   "metadata": {},
   "source": [
    "### Append mode"
   ]
  },
  {
   "cell_type": "code",
   "execution_count": 12,
   "metadata": {},
   "outputs": [
    {
     "name": "stdout",
     "output_type": "stream",
     "text": [
      "Hello MF\n",
      "\n",
      "Hello MF\n",
      "Mother Fucker\n"
     ]
    }
   ],
   "source": [
    "file = open(\"demo.txt\", 'w')\n",
    "file.write('Hello MF\\n')\n",
    "file.close()\n",
    "\n",
    "file = open(\"demo.txt\", 'r')\n",
    "content = file.read()\n",
    "print(content)\n",
    "file.close()\n",
    "\n",
    "file = open(\"demo.txt\", 'a')\n",
    "file.write('Mother Fucker')\n",
    "file.close()\n",
    "\n",
    "file = open(\"demo.txt\", 'r')\n",
    "content = file.read()\n",
    "print(content)\n",
    "file.close()"
   ]
  },
  {
   "cell_type": "code",
   "execution_count": 13,
   "metadata": {},
   "outputs": [
    {
     "data": {
      "text/plain": [
       "'To create a new file in Python, use the open() method, with one of the following parameters:\\n\\n\"x\" - Create - will create a file, returns an error if the file exist\\n\\n\"a\" - Append - will create a file if the specified file does not exist\\n\\n\"w\" - Write - will create a file if the specified file does not exist'"
      ]
     },
     "execution_count": 13,
     "metadata": {},
     "output_type": "execute_result"
    }
   ],
   "source": [
    "'''To create a new file in Python, use the open() method, with one of the following parameters:\n",
    "\n",
    "\"x\" - Create - will create a file, returns an error if the file exist\n",
    "\n",
    "\"a\" - Append - will create a file if the specified file does not exist\n",
    "\n",
    "\"w\" - Write - will create a file if the specified file does not exist'''"
   ]
  },
  {
   "cell_type": "code",
   "execution_count": 19,
   "metadata": {},
   "outputs": [
    {
     "name": "stdout",
     "output_type": "stream",
     "text": [
      "First line\n",
      "Second line\n",
      "Third line\n",
      "\n"
     ]
    }
   ],
   "source": [
    "lin1 = \"First line\\n\"\n",
    "lin2 = \"Second line\\n\"\n",
    "lin3 = \"Third line\\n\"\n",
    "file = open(\"demo.txt\", 'w')\n",
    "file.writelines([lin1 ,lin2 ,lin3])\n",
    "file.close()\n",
    "\n",
    "file = open(\"demo.txt\", 'r')\n",
    "print(file.read())"
   ]
  },
  {
   "cell_type": "code",
   "execution_count": 22,
   "metadata": {},
   "outputs": [
    {
     "name": "stdout",
     "output_type": "stream",
     "text": [
      "10\n",
      "0\n",
      "Denominator is Zero\n"
     ]
    }
   ],
   "source": [
    "def divide():\n",
    "    a = int(input())\n",
    "    b = int(input())\n",
    "    try:\n",
    "        return a/b\n",
    "    except ZeroDivisionError:\n",
    "        print(\"Denominator is Zero\")\n",
    "    \n",
    "divide()"
   ]
  }
 ],
 "metadata": {
  "kernelspec": {
   "display_name": "Python 3",
   "language": "python",
   "name": "python3"
  },
  "language_info": {
   "codemirror_mode": {
    "name": "ipython",
    "version": 3
   },
   "file_extension": ".py",
   "mimetype": "text/x-python",
   "name": "python",
   "nbconvert_exporter": "python",
   "pygments_lexer": "ipython3",
   "version": "3.6.9"
  }
 },
 "nbformat": 4,
 "nbformat_minor": 2
}
