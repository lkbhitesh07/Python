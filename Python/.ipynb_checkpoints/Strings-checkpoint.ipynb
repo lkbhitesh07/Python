{
 "cells": [
  {
   "cell_type": "code",
   "execution_count": 1,
   "metadata": {},
   "outputs": [],
   "source": [
    "# in strings if you have to store line in multilines than use ''' '''(tripple quotes).\n",
    "# for multilines last index of everyline will be '\\n' which show next line\n",
    "\n",
    "\n",
    "# Strings are immutable\n",
    "# if we make changes to string than we should store it in another string or the same string.\n",
    "# as it's immutable it will point to another string"
   ]
  },
  {
   "cell_type": "code",
   "execution_count": 8,
   "metadata": {},
   "outputs": [
    {
     "name": "stdout",
     "output_type": "stream",
     "text": [
      "numbers:4,5,6\n",
      "date: 2/3/2020\n",
      "numbers:6,5,4\n",
      "My name is Hitesh and i'm 20 year old\n"
     ]
    }
   ],
   "source": [
    "numbers = [4,5,6]\n",
    "newstring = \"numbers:{},{},{}\".format(numbers[0], numbers[1], numbers[2])\n",
    "print(newstring)\n",
    "\n",
    "date = [2,3,2020]\n",
    "string = \"date: {}/{}/{}\".format(date[0], date[1], date[2])\n",
    "print(string)\n",
    "\n",
    "new_string = \"numbers:{2},{1},{0}\".format(numbers[0], numbers[1], numbers[2])\n",
    "print(new_string)\n",
    "\n",
    "print(\"My name is {} and i'm {} year old\".format('Hitesh',20))"
   ]
  },
  {
   "cell_type": "code",
   "execution_count": 3,
   "metadata": {},
   "outputs": [
    {
     "ename": "SyntaxError",
     "evalue": "invalid syntax (<ipython-input-3-d23daa9c02e1>, line 1)",
     "output_type": "error",
     "traceback": [
      "\u001b[0;36m  File \u001b[0;32m\"<ipython-input-3-d23daa9c02e1>\"\u001b[0;36m, line \u001b[0;32m1\u001b[0m\n\u001b[0;31m    'He's a good guy'\u001b[0m\n\u001b[0m        ^\u001b[0m\n\u001b[0;31mSyntaxError\u001b[0m\u001b[0;31m:\u001b[0m invalid syntax\n"
     ]
    }
   ],
   "source": [
    "'He's a good guy'"
   ]
  },
  {
   "cell_type": "code",
   "execution_count": 5,
   "metadata": {},
   "outputs": [
    {
     "data": {
      "text/plain": [
       "\"He's a good guy\""
      ]
     },
     "execution_count": 5,
     "metadata": {},
     "output_type": "execute_result"
    }
   ],
   "source": [
    "'He\\'s a good guy'  # For sene=tence like this use backslash(\\)"
   ]
  },
  {
   "cell_type": "code",
   "execution_count": 4,
   "metadata": {},
   "outputs": [
    {
     "name": "stdout",
     "output_type": "stream",
     "text": [
      "red blue\n",
      "redbluegreen\n"
     ]
    }
   ],
   "source": [
    "a = 'red'\n",
    "print(a+' blue')\n",
    "print(a+'blue'+'green')"
   ]
  },
  {
   "cell_type": "code",
   "execution_count": 6,
   "metadata": {},
   "outputs": [
    {
     "ename": "NameError",
     "evalue": "name 'a' is not defined",
     "output_type": "error",
     "traceback": [
      "\u001b[0;31m---------------------------------------------------------------------------\u001b[0m",
      "\u001b[0;31mNameError\u001b[0m                                 Traceback (most recent call last)",
      "\u001b[0;32m<ipython-input-6-30dee1feeb1a>\u001b[0m in \u001b[0;36m<module>\u001b[0;34m\u001b[0m\n\u001b[1;32m      1\u001b[0m \u001b[0ma\u001b[0m \u001b[0;34m=\u001b[0m \u001b[0;36m10\u001b[0m\u001b[0;34m\u001b[0m\u001b[0;34m\u001b[0m\u001b[0m\n\u001b[1;32m      2\u001b[0m \u001b[0;32mdel\u001b[0m \u001b[0ma\u001b[0m\u001b[0;34m\u001b[0m\u001b[0;34m\u001b[0m\u001b[0m\n\u001b[0;32m----> 3\u001b[0;31m \u001b[0mprint\u001b[0m\u001b[0;34m(\u001b[0m\u001b[0ma\u001b[0m\u001b[0;34m)\u001b[0m\u001b[0;34m\u001b[0m\u001b[0;34m\u001b[0m\u001b[0m\n\u001b[0m",
      "\u001b[0;31mNameError\u001b[0m: name 'a' is not defined"
     ]
    }
   ],
   "source": [
    "a = 10 # To delete the variable value\n",
    "del a\n",
    "print(a)"
   ]
  },
  {
   "cell_type": "code",
   "execution_count": 6,
   "metadata": {},
   "outputs": [
    {
     "data": {
      "text/plain": [
       "'red3'"
      ]
     },
     "execution_count": 6,
     "metadata": {},
     "output_type": "execute_result"
    }
   ],
   "source": [
    "a+str(3) # converting integer to string"
   ]
  },
  {
   "cell_type": "code",
   "execution_count": 12,
   "metadata": {},
   "outputs": [
    {
     "name": "stdout",
     "output_type": "stream",
     "text": [
      "['My', 'name', 'is', 'Hitesh']\n",
      "['My', 'name is Hitesh']\n"
     ]
    }
   ],
   "source": [
    "str = \"My name is Hitesh\"\n",
    "li = str.split(' ')\n",
    "print(li)\n",
    "li = str.split(' ',1)\n",
    "print(li)"
   ]
  },
  {
   "cell_type": "markdown",
   "metadata": {},
   "source": [
    "# split"
   ]
  },
  {
   "cell_type": "code",
   "execution_count": 13,
   "metadata": {},
   "outputs": [
    {
     "data": {
      "text/plain": [
       "['My', 'name', 'is', 'Hitesh']"
      ]
     },
     "execution_count": 13,
     "metadata": {},
     "output_type": "execute_result"
    }
   ],
   "source": [
    "str = \"My,name,is,Hitesh\"\n",
    "li = str.split(',')\n",
    "li"
   ]
  },
  {
   "cell_type": "markdown",
   "metadata": {},
   "source": [
    "# replace"
   ]
  },
  {
   "cell_type": "code",
   "execution_count": 14,
   "metadata": {},
   "outputs": [
    {
     "data": {
      "text/plain": [
       "'My name is Hitesh'"
      ]
     },
     "execution_count": 14,
     "metadata": {},
     "output_type": "execute_result"
    }
   ],
   "source": [
    "str = \"My name is Hitesh\"\n",
    "str.replace('Hitesh','Rohan')\n",
    "str"
   ]
  },
  {
   "cell_type": "code",
   "execution_count": 15,
   "metadata": {},
   "outputs": [
    {
     "data": {
      "text/plain": [
       "'My name is Rohan'"
      ]
     },
     "execution_count": 15,
     "metadata": {},
     "output_type": "execute_result"
    }
   ],
   "source": [
    "str = str.replace('Hitesh','Rohan')\n",
    "str"
   ]
  },
  {
   "cell_type": "code",
   "execution_count": 17,
   "metadata": {},
   "outputs": [
    {
     "data": {
      "text/plain": [
       "'My name is Rohan Rohan Hitesh'"
      ]
     },
     "execution_count": 17,
     "metadata": {},
     "output_type": "execute_result"
    }
   ],
   "source": [
    "str = \"My name is Hitesh Hitesh Hitesh\"\n",
    "str = str.replace('Hitesh','Rohan',2)\n",
    "str"
   ]
  },
  {
   "cell_type": "markdown",
   "metadata": {},
   "source": [
    "# lower and upper"
   ]
  },
  {
   "cell_type": "code",
   "execution_count": 18,
   "metadata": {},
   "outputs": [
    {
     "data": {
      "text/plain": [
       "'my name is hitesh'"
      ]
     },
     "execution_count": 18,
     "metadata": {},
     "output_type": "execute_result"
    }
   ],
   "source": [
    "str = \"My Name Is Hitesh\"\n",
    "str = str.lower()\n",
    "str"
   ]
  },
  {
   "cell_type": "markdown",
   "metadata": {},
   "source": [
    "# replace the charcter"
   ]
  },
  {
   "cell_type": "code",
   "execution_count": 21,
   "metadata": {},
   "outputs": [
    {
     "name": "stdout",
     "output_type": "stream",
     "text": [
      "addddddddxcsjkdc\n"
     ]
    }
   ],
   "source": [
    "def replace(str,char1,char2):\n",
    "    newStr = ''\n",
    "    for char in str:\n",
    "        if char==char1:\n",
    "            newStr+=char2\n",
    "        else:\n",
    "            newStr+=char\n",
    "    return newStr\n",
    "\n",
    "str = 'abbbbbbbbxcsjkdc'\n",
    "str = replace(str,'b','d')\n",
    "print(str)"
   ]
  },
  {
   "cell_type": "markdown",
   "metadata": {},
   "source": [
    "# vowel,consonent,special,digit"
   ]
  },
  {
   "cell_type": "code",
   "execution_count": 28,
   "metadata": {},
   "outputs": [
    {
     "name": "stdout",
     "output_type": "stream",
     "text": [
      "5 18 6 6\n"
     ]
    }
   ],
   "source": [
    "def countInString(str):\n",
    "    v,c,d,s = 0,0,0,0\n",
    "    for char in str:\n",
    "        if((char>='a' and char<='z') or (char>='A' and char<='Z')):\n",
    "            char = char.lower()\n",
    "            if (char=='a' or char=='e' or char=='i' or char=='o' or char=='u'):\n",
    "                v+=1\n",
    "            else:\n",
    "                c+=1\n",
    "        elif(char>='0' and char<='9'):\n",
    "            d+=1\n",
    "        else:\n",
    "            s+=1\n",
    "    return v,c,d,s\n",
    "str = \"sfshdgfSJGFJDF456564#%^$% sdhbaeiou\"\n",
    "v,c,d,s = countInString(str)\n",
    "print(v,c,d,s)\n",
    "                                         "
   ]
  },
  {
   "cell_type": "markdown",
   "metadata": {},
   "source": [
    "# Check permutation"
   ]
  },
  {
   "cell_type": "code",
   "execution_count": 5,
   "metadata": {},
   "outputs": [
    {
     "name": "stdout",
     "output_type": "stream",
     "text": [
      "cbbd\n",
      "abcd\n",
      "false\n"
     ]
    }
   ],
   "source": [
    "str1 = input() # For strings to sort it we have to use different method as mentioned below.\n",
    "str2 = input()\n",
    "str1 = str1.lower()\n",
    "str2 = str2.lower()\n",
    "str1 = sorted(str1)\n",
    "str2 = sorted(str2)\n",
    "if str1 == str2:\n",
    "    print('true')\n",
    "else:\n",
    "    print('false')"
   ]
  },
  {
   "cell_type": "markdown",
   "metadata": {},
   "source": [
    "# Remove consecutive"
   ]
  },
  {
   "cell_type": "code",
   "execution_count": 7,
   "metadata": {},
   "outputs": [
    {
     "name": "stdout",
     "output_type": "stream",
     "text": [
      "abbccddaabb\n",
      "abcdab\n"
     ]
    }
   ],
   "source": [
    "a = input()\n",
    "b = ''\n",
    "for ele in a:\n",
    "    if ele not in b:\n",
    "        b+=ele\n",
    "    elif ele!=b[len(b)-1]:\n",
    "        b+=ele\n",
    "print(b)"
   ]
  },
  {
   "cell_type": "markdown",
   "metadata": {},
   "source": [
    "# Reverse each word"
   ]
  },
  {
   "cell_type": "code",
   "execution_count": 1,
   "metadata": {},
   "outputs": [
    {
     "name": "stdout",
     "output_type": "stream",
     "text": [
      "Google ML intern Hitesh Tomar\n",
      "elgooG LM nretni hsetiH ramoT\n"
     ]
    }
   ],
   "source": [
    "def reversed_words(s):\n",
    "    return ' '.join(words[::-1] for words in s.split())\n",
    "\n",
    "s = input()\n",
    "result = reversed_words(s)\n",
    "print(result)"
   ]
  },
  {
   "cell_type": "markdown",
   "metadata": {},
   "source": [
    "# Remove character"
   ]
  },
  {
   "cell_type": "code",
   "execution_count": 3,
   "metadata": {},
   "outputs": [
    {
     "name": "stdout",
     "output_type": "stream",
     "text": [
      "Google Data Science intern Hitesh Tomar\n",
      "b\n",
      "Google Data Science intern Hitesh Tomar\n"
     ]
    }
   ],
   "source": [
    "s = input()\n",
    "a = input()\n",
    "result = s.replace(a,'')\n",
    "print(result)"
   ]
  },
  {
   "cell_type": "markdown",
   "metadata": {},
   "source": [
    "# Highest occuring character"
   ]
  },
  {
   "cell_type": "code",
   "execution_count": 7,
   "metadata": {
    "scrolled": true
   },
   "outputs": [
    {
     "name": "stdout",
     "output_type": "stream",
     "text": [
      "saaaaassddffffgfghhgh\n",
      "a\n"
     ]
    }
   ],
   "source": [
    "s = input()\n",
    "arr = [0]*256\n",
    "for i in s:\n",
    "    arr[ord(i)]+=1\n",
    "    \n",
    "m=-1\n",
    "for i in s:\n",
    "    if m<arr[ord(i)]:\n",
    "        m=arr[ord(i)]\n",
    "        c=i\n",
    "print(c)"
   ]
  },
  {
   "cell_type": "code",
   "execution_count": null,
   "metadata": {},
   "outputs": [],
   "source": []
  }
 ],
 "metadata": {
  "kernelspec": {
   "display_name": "Python 3",
   "language": "python",
   "name": "python3"
  },
  "language_info": {
   "codemirror_mode": {
    "name": "ipython",
    "version": 3
   },
   "file_extension": ".py",
   "mimetype": "text/x-python",
   "name": "python",
   "nbconvert_exporter": "python",
   "pygments_lexer": "ipython3",
   "version": "3.6.9"
  }
 },
 "nbformat": 4,
 "nbformat_minor": 2
}
