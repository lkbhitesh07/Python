{
 "cells": [
  {
   "cell_type": "markdown",
   "metadata": {},
   "source": [
    "### Binary search"
   ]
  },
  {
   "cell_type": "code",
   "execution_count": 2,
   "metadata": {},
   "outputs": [
    {
     "name": "stdout",
     "output_type": "stream",
     "text": [
      "7\n",
      "1 2 3 4 5 6 7\n",
      "9\n",
      "-1\n"
     ]
    }
   ],
   "source": [
    "def binary(li,num):\n",
    "    li.sort()\n",
    "    s = 0\n",
    "    e = n-1\n",
    "    while(s<e):\n",
    "        mid = (s+e)//2\n",
    "        if li[mid]==num:\n",
    "            return mid\n",
    "        elif num>li[mid]:\n",
    "            s = mid+1\n",
    "        else:\n",
    "            e = mid-1\n",
    "    return -1\n",
    "\n",
    "n = int(input())\n",
    "li = [int(x) for x in input().split()]\n",
    "num = int(input())\n",
    "ans = binary(li,num)\n",
    "print(ans)"
   ]
  },
  {
   "cell_type": "markdown",
   "metadata": {},
   "source": [
    "### Selection Sort"
   ]
  },
  {
   "cell_type": "code",
   "execution_count": 3,
   "metadata": {},
   "outputs": [
    {
     "name": "stdout",
     "output_type": "stream",
     "text": [
      "7\n",
      "1 5 3 7 2 6 0\n",
      "[0, 1, 2, 3, 5, 6, 7]\n"
     ]
    }
   ],
   "source": [
    "def selection(li):\n",
    "    length = len(li)\n",
    "    for i in range(length-1):\n",
    "        minIndex = i\n",
    "        for j in range(i+1,length):\n",
    "            if li[j]<li[minIndex]:\n",
    "                minIndex = j\n",
    "        li[i],li[minIndex] = li[minIndex],li[i]\n",
    "\n",
    "n = int(input())\n",
    "li = [int(x) for x in input().split()]\n",
    "selection(li)\n",
    "print(li)"
   ]
  },
  {
   "cell_type": "markdown",
   "metadata": {},
   "source": [
    "### Bubble Sort"
   ]
  },
  {
   "cell_type": "code",
   "execution_count": 6,
   "metadata": {},
   "outputs": [
    {
     "name": "stdout",
     "output_type": "stream",
     "text": [
      "7\n",
      "1 5 3 7 2 6 0\n",
      "[0, 1, 2, 3, 5, 6, 7]\n"
     ]
    }
   ],
   "source": [
    "def Bubble(li):\n",
    "    for i in range(n-1):\n",
    "        for j in range(n-i-1):\n",
    "            if li[j]>li[j+1]:\n",
    "                li[j],li[j+1] = li[j+1],li[j]\n",
    "\n",
    "n = int(input())\n",
    "li = [int(x) for x in input().split()]\n",
    "Bubble(li)\n",
    "print(li)"
   ]
  },
  {
   "cell_type": "markdown",
   "metadata": {},
   "source": [
    "### Insertion Sort"
   ]
  },
  {
   "cell_type": "code",
   "execution_count": 9,
   "metadata": {},
   "outputs": [
    {
     "name": "stdout",
     "output_type": "stream",
     "text": [
      "7\n",
      "1 5 3 7 2 6 0\n",
      "[0, 1, 2, 3, 5, 6, 7]\n"
     ]
    }
   ],
   "source": [
    "def Insertion(arr):\n",
    "    for i in range(1,n):\n",
    "        temp = arr[i]\n",
    "        j = i-1\n",
    "        while(j>=0 and temp<arr[j]):\n",
    "            arr[j+1] = arr[j]\n",
    "            j-=1\n",
    "        arr[j+1] = temp\n",
    "\n",
    "n = int(input())\n",
    "li = [int(x) for x in input().split()]\n",
    "Insertion(li)\n",
    "print(li)"
   ]
  },
  {
   "cell_type": "markdown",
   "metadata": {},
   "source": [
    "### Merge 2 Sorted Array"
   ]
  },
  {
   "cell_type": "code",
   "execution_count": 13,
   "metadata": {},
   "outputs": [
    {
     "name": "stdout",
     "output_type": "stream",
     "text": [
      "1 2 3 4\n",
      "4 5 6 7 8\n",
      "[1, 2, 3, 4, 4, 5, 6, 7, 8]\n"
     ]
    }
   ],
   "source": [
    "def Merge(li1,li2): #both the list should be sorted.\n",
    "    i = 0\n",
    "    j = 0\n",
    "    li = []\n",
    "    while(i<len(li1) and j<len(li2)):\n",
    "        if(li1[i]>li2[j]):\n",
    "            li.append(li2[j])\n",
    "            j+=1\n",
    "        else:\n",
    "            li.append(li1[i])\n",
    "            i+=1\n",
    "    while(i<len(li1)):\n",
    "        li.append(li1[i])\n",
    "        i+=1\n",
    "    while(j<len(li2)):\n",
    "        li.append(li2[j])\n",
    "        j+=1\n",
    "    print(li)\n",
    "        \n",
    "\n",
    "li1 = [int(x) for x in input().split()]\n",
    "li2 = [int(y) for y in input().split()]\n",
    "Merge(li1,li2)"
   ]
  },
  {
   "cell_type": "markdown",
   "metadata": {},
   "source": [
    "### Push Zero To End"
   ]
  },
  {
   "cell_type": "code",
   "execution_count": 25,
   "metadata": {},
   "outputs": [
    {
     "name": "stdout",
     "output_type": "stream",
     "text": [
      "2 6 0 1 9 0 8 0\n",
      "[2, 6, 1, 9, 8, 0, 0, 0]\n"
     ]
    }
   ],
   "source": [
    "def ZeroEnd(li):\n",
    "    i = 0\n",
    "    k = 0\n",
    "    while(i<len(li) and k<len(li)):\n",
    "        if li[i]!=0 and li[i]==li[k]:\n",
    "            i+=1\n",
    "            k+=1\n",
    "        elif li[i]==0:\n",
    "            i+=1\n",
    "        else:\n",
    "            li[i],li[k]=li[k],li[i]\n",
    "            i+=1\n",
    "            k+=1\n",
    "\n",
    "li = [int(x) for x in input().split()]\n",
    "ZeroEnd(li)\n",
    "print(li)"
   ]
  },
  {
   "cell_type": "markdown",
   "metadata": {},
   "source": [
    "# Rotate the array"
   ]
  },
  {
   "cell_type": "code",
   "execution_count": 10,
   "metadata": {},
   "outputs": [
    {
     "name": "stdout",
     "output_type": "stream",
     "text": [
      "7\n",
      "1 2 3 4 5 6 7\n",
      "2\n",
      "[1, 4, 5, 6, 7, 1, 1]\n"
     ]
    }
   ],
   "source": [
    "n = int(input())\n",
    "li = [int(x) for x in input().split()]\n",
    "d = int(input())\n",
    "i = 1\n",
    "while(i<=d):\n",
    "    temp = li[0]\n",
    "    for j in range(1,n-1):\n",
    "        li[j] = li[j+1]\n",
    "    li[n-1] = temp\n",
    "    i+=1\n",
    "print(li)"
   ]
  },
  {
   "cell_type": "code",
   "execution_count": 21,
   "metadata": {},
   "outputs": [
    {
     "name": "stdout",
     "output_type": "stream",
     "text": [
      "7\n",
      "1 2 3 4 5 6 7\n",
      "2\n"
     ]
    },
    {
     "ename": "IndexError",
     "evalue": "list index out of range",
     "output_type": "error",
     "traceback": [
      "\u001b[0;31m---------------------------------------------------------------------------\u001b[0m",
      "\u001b[0;31mIndexError\u001b[0m                                Traceback (most recent call last)",
      "\u001b[0;32m<ipython-input-21-20d9dc21df00>\u001b[0m in \u001b[0;36m<module>\u001b[0;34m\u001b[0m\n\u001b[1;32m     12\u001b[0m \u001b[0mli\u001b[0m \u001b[0;34m=\u001b[0m \u001b[0;34m[\u001b[0m\u001b[0mint\u001b[0m\u001b[0;34m(\u001b[0m\u001b[0mx\u001b[0m\u001b[0;34m)\u001b[0m \u001b[0;32mfor\u001b[0m \u001b[0mx\u001b[0m \u001b[0;32min\u001b[0m \u001b[0minput\u001b[0m\u001b[0;34m(\u001b[0m\u001b[0;34m)\u001b[0m\u001b[0;34m.\u001b[0m\u001b[0msplit\u001b[0m\u001b[0;34m(\u001b[0m\u001b[0;34m)\u001b[0m\u001b[0;34m]\u001b[0m\u001b[0;34m\u001b[0m\u001b[0;34m\u001b[0m\u001b[0m\n\u001b[1;32m     13\u001b[0m \u001b[0md\u001b[0m \u001b[0;34m=\u001b[0m \u001b[0mint\u001b[0m\u001b[0;34m(\u001b[0m\u001b[0minput\u001b[0m\u001b[0;34m(\u001b[0m\u001b[0;34m)\u001b[0m\u001b[0;34m)\u001b[0m\u001b[0;34m\u001b[0m\u001b[0;34m\u001b[0m\u001b[0m\n\u001b[0;32m---> 14\u001b[0;31m \u001b[0mrotate\u001b[0m\u001b[0;34m(\u001b[0m\u001b[0mli\u001b[0m\u001b[0;34m,\u001b[0m\u001b[0md\u001b[0m\u001b[0;34m)\u001b[0m\u001b[0;34m\u001b[0m\u001b[0;34m\u001b[0m\u001b[0m\n\u001b[0m",
      "\u001b[0;32m<ipython-input-21-20d9dc21df00>\u001b[0m in \u001b[0;36mrotate\u001b[0;34m(li, d)\u001b[0m\n\u001b[1;32m      6\u001b[0m         \u001b[0mli\u001b[0m\u001b[0;34m[\u001b[0m\u001b[0mj\u001b[0m\u001b[0;34m]\u001b[0m \u001b[0;34m=\u001b[0m \u001b[0mli\u001b[0m\u001b[0;34m[\u001b[0m\u001b[0mj\u001b[0m\u001b[0;34m+\u001b[0m\u001b[0md\u001b[0m\u001b[0;34m]\u001b[0m\u001b[0;34m\u001b[0m\u001b[0;34m\u001b[0m\u001b[0m\n\u001b[1;32m      7\u001b[0m     \u001b[0;32mfor\u001b[0m \u001b[0mk\u001b[0m \u001b[0;32min\u001b[0m \u001b[0mrange\u001b[0m\u001b[0;34m(\u001b[0m\u001b[0mlen\u001b[0m\u001b[0;34m(\u001b[0m\u001b[0mli\u001b[0m\u001b[0;34m)\u001b[0m\u001b[0;34m-\u001b[0m\u001b[0md\u001b[0m\u001b[0;34m)\u001b[0m\u001b[0;34m:\u001b[0m\u001b[0;34m\u001b[0m\u001b[0;34m\u001b[0m\u001b[0m\n\u001b[0;32m----> 8\u001b[0;31m         \u001b[0mli\u001b[0m\u001b[0;34m[\u001b[0m\u001b[0mk\u001b[0m\u001b[0;34m]\u001b[0m \u001b[0;34m=\u001b[0m \u001b[0mli2\u001b[0m\u001b[0;34m[\u001b[0m\u001b[0mk\u001b[0m\u001b[0;34m]\u001b[0m\u001b[0;34m\u001b[0m\u001b[0;34m\u001b[0m\u001b[0m\n\u001b[0m\u001b[1;32m      9\u001b[0m     \u001b[0mprint\u001b[0m\u001b[0;34m(\u001b[0m\u001b[0mli\u001b[0m\u001b[0;34m)\u001b[0m\u001b[0;34m\u001b[0m\u001b[0;34m\u001b[0m\u001b[0m\n\u001b[1;32m     10\u001b[0m \u001b[0;34m\u001b[0m\u001b[0m\n",
      "\u001b[0;31mIndexError\u001b[0m: list index out of range"
     ]
    }
   ],
   "source": [
    "def rotate(li,d):\n",
    "    li2 = []\n",
    "    for i in range(d):\n",
    "        li2.append(li[i])\n",
    "    for j in range(len(li)-d):\n",
    "        li[j] = li[j+d]\n",
    "    for k in range(len(li)-d):\n",
    "        li[k] = li2[k]\n",
    "    print(li)\n",
    "\n",
    "n = int(input())\n",
    "li = [int(x) for x in input().split()]\n",
    "d = int(input())\n",
    "rotate(li,d)"
   ]
  },
  {
   "cell_type": "markdown",
   "metadata": {},
   "source": [
    "# Second largest"
   ]
  },
  {
   "cell_type": "code",
   "execution_count": 18,
   "metadata": {},
   "outputs": [
    {
     "name": "stdout",
     "output_type": "stream",
     "text": [
      "7\n",
      "1 2 3 4 5 6 7\n",
      "6\n"
     ]
    }
   ],
   "source": [
    "def Second(li):\n",
    "    l = -1\n",
    "    sl = -1\n",
    "    flag = False\n",
    "    for i in range(len(li)):\n",
    "        if li[i]>l:\n",
    "            sl = l\n",
    "            l = li[i]\n",
    "        if li[i]>sl and li[i]<l:\n",
    "            sl = li[i]\n",
    "    print(sl)\n",
    "\n",
    "n = int(input())\n",
    "li = [int(x) for x in input().split()]\n",
    "Second(li)"
   ]
  },
  {
   "cell_type": "markdown",
   "metadata": {},
   "source": [
    "# check rotation"
   ]
  },
  {
   "cell_type": "code",
   "execution_count": 23,
   "metadata": {},
   "outputs": [
    {
     "name": "stdout",
     "output_type": "stream",
     "text": [
      "7\n",
      "3 4 5 6 7 1 2\n",
      "5\n"
     ]
    }
   ],
   "source": [
    "def chck_rot(li):\n",
    "    count = 1\n",
    "    flag = False\n",
    "    for i in range(len(li)):\n",
    "        if li[i]<=li[i+1]:\n",
    "            count+=1\n",
    "            flag = True\n",
    "        else:\n",
    "            break\n",
    "    if flag is False:\n",
    "        print(-1)\n",
    "    else:\n",
    "        print(count)\n",
    "\n",
    "n = int(input())\n",
    "li = [int(x) for x in input().split()]\n",
    "chck_rot(li)"
   ]
  },
  {
   "cell_type": "markdown",
   "metadata": {},
   "source": [
    "# Sum of 2 arrays"
   ]
  },
  {
   "cell_type": "code",
   "execution_count": 29,
   "metadata": {},
   "outputs": [
    {
     "name": "stdout",
     "output_type": "stream",
     "text": [
      "1 2 3 4 5 6 7\n",
      "5 6 8 9 4\n",
      "1 2 9 1 4 6 1 "
     ]
    }
   ],
   "source": [
    "li1 = [int(x) for x in input().split()]\n",
    "li2 = [int(x) for x in input().split()]\n",
    "size1 = len(li1)\n",
    "size2 = len(li2)\n",
    "size3 = size1 if size1>size2 else size2\n",
    "li = [0]*size3\n",
    "i = size1-1\n",
    "j = size2-1\n",
    "k = size3-1\n",
    "carry = 0\n",
    "while(i>=0 and j>=0):\n",
    "    num = li1[i]+li2[j]+carry\n",
    "    carry = num//10\n",
    "    num2 = num%10\n",
    "    li[k] = num2\n",
    "    i-=1\n",
    "    j-=1\n",
    "    k-=1\n",
    "while(i>=0):\n",
    "    num = li1[i]+carry\n",
    "    carry = num//10\n",
    "    num2 = num%10\n",
    "    li[k] = num2\n",
    "    i-=1\n",
    "    k-=1\n",
    "while(j>=0):\n",
    "    num = li2[j]+carry\n",
    "    carry = num//10\n",
    "    num2 = num%10\n",
    "    li[k] = num2\n",
    "    j-=1\n",
    "    k-=1\n",
    "    \n",
    "for ele in li:\n",
    "    print(ele,end=' ')"
   ]
  }
 ],
 "metadata": {
  "kernelspec": {
   "display_name": "Python 3",
   "language": "python",
   "name": "python3"
  },
  "language_info": {
   "codemirror_mode": {
    "name": "ipython",
    "version": 3
   },
   "file_extension": ".py",
   "mimetype": "text/x-python",
   "name": "python",
   "nbconvert_exporter": "python",
   "pygments_lexer": "ipython3",
   "version": "3.6.9"
  }
 },
 "nbformat": 4,
 "nbformat_minor": 2
}
