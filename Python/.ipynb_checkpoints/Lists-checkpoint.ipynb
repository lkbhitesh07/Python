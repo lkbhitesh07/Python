{
 "cells": [
  {
   "cell_type": "code",
   "execution_count": 1,
   "metadata": {},
   "outputs": [],
   "source": [
    "# (li.append)-> Automatically add element to the last.\n",
    "# (li.insert(index,element))-> Add element to that particular place.\n",
    "# (li.extend([1,2,3]))-> Add multiple element at the end.\n",
    "\n",
    "# (li.remove)-> To remove the last element.\n",
    "# (li.pop(index))-> To remove from particular index.\n",
    "\n",
    "# When we use li.append to add element, ek nayi list banegi double sixe ki or usme element store honge."
   ]
  },
  {
   "cell_type": "code",
   "execution_count": 2,
   "metadata": {},
   "outputs": [
    {
     "name": "stdout",
     "output_type": "stream",
     "text": [
      "[0, 1, 4, 9, 16, 25, 36, 49]\n",
      "[0, 4, 16, 36]\n"
     ]
    }
   ],
   "source": [
    "# one more thing\n",
    "li = [x**2 for x in range(8)]\n",
    "print(li)\n",
    "li = [x**2 for x in range(8) if x**2%2==0]\n",
    "print(li)"
   ]
  },
  {
   "cell_type": "code",
   "execution_count": 1,
   "metadata": {},
   "outputs": [
    {
     "name": "stdout",
     "output_type": "stream",
     "text": [
      "[0, 1, 2, 3, 4, 5, 6, 7, 8, 9]\n",
      "[1, 2, 3, 4, 5, 6, 7, 8, 9]\n"
     ]
    }
   ],
   "source": [
    "# To make a list of default counting numbers\n",
    "li1 = list(range(10))\n",
    "print(li1)\n",
    "li2 = list(range(1,10))\n",
    "print(li2)"
   ]
  },
  {
   "cell_type": "code",
   "execution_count": 3,
   "metadata": {},
   "outputs": [
    {
     "name": "stdout",
     "output_type": "stream",
     "text": [
      "1\n",
      "Hitesh\n",
      "Raman\n",
      "2\n",
      "4\n",
      "Raman\n",
      "2\n",
      "4\n"
     ]
    }
   ],
   "source": [
    "li = [1,'Hitesh','Raman',2,4]\n",
    "for ele in li:\n",
    "    print(ele)\n",
    "for ele in li[2:]:\n",
    "    print(ele)"
   ]
  },
  {
   "cell_type": "code",
   "execution_count": 9,
   "metadata": {},
   "outputs": [
    {
     "name": "stdout",
     "output_type": "stream",
     "text": [
      "[1, 2, 3, 4, 5]\n",
      "5\n"
     ]
    }
   ],
   "source": [
    "li = [1,2,3,4,5]\n",
    "print(li[0:5:1])\n",
    "print(li[-1])"
   ]
  },
  {
   "cell_type": "markdown",
   "metadata": {},
   "source": [
    "### line seprated input"
   ]
  },
  {
   "cell_type": "code",
   "execution_count": 12,
   "metadata": {},
   "outputs": [
    {
     "name": "stdout",
     "output_type": "stream",
     "text": [
      "3\n",
      "input please\n",
      "1\n",
      "2\n",
      "3\n",
      "printing the answer\n",
      "1\n",
      "2\n",
      "3\n"
     ]
    }
   ],
   "source": [
    "n = int(input())\n",
    "li = []\n",
    "print(\"input please\")\n",
    "for i in range(n):\n",
    "    curr = int(input())\n",
    "    li.append(curr)\n",
    "print(\"printing the answer\")\n",
    "for ele in li:\n",
    "    print(ele)"
   ]
  },
  {
   "cell_type": "markdown",
   "metadata": {},
   "source": [
    "### Space seprated"
   ]
  },
  {
   "cell_type": "code",
   "execution_count": 13,
   "metadata": {},
   "outputs": [
    {
     "name": "stdout",
     "output_type": "stream",
     "text": [
      "5\n",
      "1 2 3 4 5\n",
      "1\n",
      "2\n",
      "3\n",
      "4\n",
      "5\n"
     ]
    }
   ],
   "source": [
    "n = int(input())\n",
    "li = [int(x) for x in input().split()]\n",
    "for ele in li:\n",
    "    print(ele)"
   ]
  },
  {
   "cell_type": "markdown",
   "metadata": {},
   "source": [
    "## Linear Search"
   ]
  },
  {
   "cell_type": "code",
   "execution_count": 17,
   "metadata": {},
   "outputs": [
    {
     "name": "stdout",
     "output_type": "stream",
     "text": [
      "5\n",
      "1 2 3 4 5\n",
      "6\n",
      "element not found -1\n"
     ]
    }
   ],
   "source": [
    "n = int(input())\n",
    "li = [int(x) for x in input().split()]\n",
    "ele = int(input())\n",
    "isFound = False\n",
    "for i in range(len(li)):\n",
    "    if ele == li[i]:\n",
    "        print('index of the ele is' ,i)\n",
    "        isFound = True\n",
    "        break\n",
    "if isFound is False:\n",
    "    print('element not found' ,-1)"
   ]
  },
  {
   "cell_type": "markdown",
   "metadata": {},
   "source": [
    "### Mutable and Immutable"
   ]
  },
  {
   "cell_type": "code",
   "execution_count": 19,
   "metadata": {},
   "outputs": [
    {
     "name": "stdout",
     "output_type": "stream",
     "text": [
      "5\n",
      "10914560 10914560\n",
      "10914560 10914592\n"
     ]
    }
   ],
   "source": [
    "# MUTABLE\n",
    "# In this concept if we have list and we equals it another list, and if change any of the list than we can see\n",
    "# the same change in another list too.\n",
    "li = [1,2,3,4]\n",
    "li2 = li\n",
    "li2[2] = 5\n",
    "print(li2[2])\n",
    "\n",
    "# IMMUTABLE\n",
    "# It's opposite of mutable, there is no change in variable if we change \n",
    "a = 3\n",
    "b = 3\n",
    "print(id(a) ,id(b))\n",
    "b = 4\n",
    "print(id(a) ,id(b))"
   ]
  },
  {
   "cell_type": "markdown",
   "metadata": {},
   "source": [
    "### Reverse list"
   ]
  },
  {
   "cell_type": "code",
   "execution_count": 20,
   "metadata": {},
   "outputs": [
    {
     "name": "stdout",
     "output_type": "stream",
     "text": [
      "enter the number of element you want to insert:\n",
      "5\n",
      "1 2 3 4 5\n",
      "[5, 4, 3, 2, 1]\n"
     ]
    }
   ],
   "source": [
    "def reverse(li):\n",
    "    length = len(li)\n",
    "    for i in range(length//2):\n",
    "        li[i],li[length-1-i] = li[length-1-i],li[i]\n",
    "    return li\n",
    "\n",
    "print('enter the number of element you want to insert:')\n",
    "n = int(input())\n",
    "li = [int(x) for x in input().split()]\n",
    "reverse(li)\n",
    "print(li)"
   ]
  },
  {
   "cell_type": "code",
   "execution_count": 1,
   "metadata": {},
   "outputs": [
    {
     "name": "stdout",
     "output_type": "stream",
     "text": [
      "[6, 5, 4, 3, 2, 1]\n",
      "[1, 2, 3, 4, 5, 6]\n"
     ]
    }
   ],
   "source": [
    "li = [1,2,3,4,5,6]\n",
    "length = len(li)\n",
    "li = li[length::-1]\n",
    "print(li)\n",
    "\n",
    "li2 = [6,5,4,3,2,1]\n",
    "print(li2[::-1])"
   ]
  },
  {
   "cell_type": "markdown",
   "metadata": {},
   "source": [
    "### Swap Alternate"
   ]
  },
  {
   "cell_type": "code",
   "execution_count": 3,
   "metadata": {},
   "outputs": [
    {
     "name": "stdout",
     "output_type": "stream",
     "text": [
      "7\n",
      "1 2 3 4 5 6 7\n",
      "2 1 4 3 6 5 7 "
     ]
    }
   ],
   "source": [
    "n = int(input())\n",
    "li = [int(x) for x in input().split()]\n",
    "length = len(li)\n",
    "if n%2==0:\n",
    "    for i in range(0,n,2):\n",
    "        li[i],li[i+1] = li[i+1],li[i]\n",
    "    for ele in li:\n",
    "        print(ele,end=' ')\n",
    "else:\n",
    "    for i in range(0,n-1,2):\n",
    "        li[i],li[i+1] = li[i+1],li[i]\n",
    "    for ele in li:\n",
    "        print(ele,end=' ')"
   ]
  },
  {
   "cell_type": "markdown",
   "metadata": {},
   "source": [
    "### Find Unique"
   ]
  },
  {
   "cell_type": "code",
   "execution_count": 8,
   "metadata": {},
   "outputs": [
    {
     "name": "stdout",
     "output_type": "stream",
     "text": [
      "7\n",
      "1 5 2 2 5 1 6\n",
      "6\n"
     ]
    }
   ],
   "source": [
    "n = int(input())\n",
    "li = [int(x) for x in input().split()]\n",
    "li.sort()\n",
    "flag = False\n",
    "for i in range(0,n-1,2):\n",
    "    if li[i]!=li[i+1]:\n",
    "        print(li[i])\n",
    "        flag = True\n",
    "        break\n",
    "if flag!=True:\n",
    "    print(li[n-1])\n",
    "        "
   ]
  },
  {
   "cell_type": "code",
   "execution_count": null,
   "metadata": {},
   "outputs": [],
   "source": [
    "## Read input as specified in the question.\n",
    "## Print output as specified in the question.\n",
    "def uni(li):\n",
    "    length = len(li)\n",
    "    for i in range(length):\n",
    "        for j in range (length):\n",
    "            if (li[i]==li[j] and i!=j ):\n",
    "                break\n",
    "        else:\n",
    "            return li[i]\n",
    "    return li[length-1]\n",
    "\n",
    "                        \n",
    "\n",
    "\n",
    "n=int(input())\n",
    "li= [int(x) for x in input().split()]\n",
    "a = uni(li)\n",
    "print(a)"
   ]
  },
  {
   "cell_type": "markdown",
   "metadata": {},
   "source": [
    "### Duplicate "
   ]
  },
  {
   "cell_type": "code",
   "execution_count": 9,
   "metadata": {},
   "outputs": [
    {
     "name": "stdout",
     "output_type": "stream",
     "text": [
      "9\n",
      "0 7 2 5 4 7 1 3 6\n",
      "7\n"
     ]
    }
   ],
   "source": [
    "n = int(input())\n",
    "li = [int(x) for x in input().split()]\n",
    "li.sort()\n",
    "for i in range(0,n):\n",
    "    if li[i]==li[i+1]:\n",
    "        print(li[i])\n",
    "        break"
   ]
  },
  {
   "cell_type": "code",
   "execution_count": null,
   "metadata": {},
   "outputs": [],
   "source": [
    "## Read input as specified in the question.\n",
    "## Print output as specified in the question.\n",
    "def duplicate(li):\n",
    "    for i in range(len(li)):\n",
    "        for j in range(len(li)):\n",
    "            if(li[i] == li[j] and i != j):\n",
    "                return li[i]\n",
    "                break\n",
    "            \n",
    "            \n",
    "n = int(input())\n",
    "li = [int(x) for x in input().split()]\n",
    "a = duplicate(li)\n",
    "print(a)"
   ]
  },
  {
   "cell_type": "markdown",
   "metadata": {},
   "source": [
    "### Array Intersection"
   ]
  },
  {
   "cell_type": "code",
   "execution_count": 11,
   "metadata": {},
   "outputs": [
    {
     "name": "stdout",
     "output_type": "stream",
     "text": [
      "6\n",
      "2 6 8 5 4 3\n",
      "4\n",
      "2 3 4 7\n",
      "2\n",
      "3\n",
      "4\n"
     ]
    }
   ],
   "source": [
    "n1 = int(input())\n",
    "li1 = [int(x) for x in input().split()]\n",
    "n2 = int(input())\n",
    "li2 = [int(y) for y in input().split()]\n",
    "li1.sort()\n",
    "li2.sort()\n",
    "for i in range(len(li1)):\n",
    "    for j in range(len(li2)):\n",
    "        if li1[i]==li2[j]:\n",
    "            print(li1[i])\n",
    "            li2.remove(li2[j])\n",
    "            break"
   ]
  },
  {
   "cell_type": "markdown",
   "metadata": {},
   "source": [
    "### Pair Sum"
   ]
  },
  {
   "cell_type": "code",
   "execution_count": 13,
   "metadata": {},
   "outputs": [
    {
     "name": "stdout",
     "output_type": "stream",
     "text": [
      "9\n",
      "1 3 6 2 5 4 3 2 4\n",
      "7\n",
      "1 6\n",
      "3 4\n",
      "3 4\n",
      "2 5\n",
      "2 5\n",
      "3 4\n",
      "3 4\n"
     ]
    }
   ],
   "source": [
    "n = int(input())\n",
    "li = [int(x) for x in input().split()]\n",
    "m = int(input())\n",
    "for i in range(n-2):\n",
    "    for j in range(i+1,n):\n",
    "        if li[i]+li[j] == m:\n",
    "            if li[i]<li[j]:\n",
    "                print(li[i], li[j])\n",
    "            else:\n",
    "                print(li[j], li[i])"
   ]
  },
  {
   "cell_type": "markdown",
   "metadata": {},
   "source": [
    "### Tripplet Sum"
   ]
  },
  {
   "cell_type": "code",
   "execution_count": null,
   "metadata": {},
   "outputs": [],
   "source": [
    "m=int(input())\n",
    "li=[int(x) for x in input().split()]\n",
    "li.sort()\n",
    "x=int(input())\n",
    "\n",
    "for i in range(m):\n",
    "    for j in range(i+1,m):\n",
    "        for k in range(j+1,m):\n",
    "            if li[i]+li[j]+li[k]==x:\n",
    "                print(li[i],li[j],li[k])"
   ]
  },
  {
   "cell_type": "code",
   "execution_count": null,
   "metadata": {},
   "outputs": [],
   "source": []
  }
 ],
 "metadata": {
  "kernelspec": {
   "display_name": "Python 3",
   "language": "python",
   "name": "python3"
  },
  "language_info": {
   "codemirror_mode": {
    "name": "ipython",
    "version": 3
   },
   "file_extension": ".py",
   "mimetype": "text/x-python",
   "name": "python",
   "nbconvert_exporter": "python",
   "pygments_lexer": "ipython3",
   "version": "3.6.9"
  }
 },
 "nbformat": 4,
 "nbformat_minor": 2
}
