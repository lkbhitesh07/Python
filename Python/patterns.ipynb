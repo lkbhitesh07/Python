{
 "cells": [
  {
   "cell_type": "code",
   "execution_count": 2,
   "metadata": {},
   "outputs": [],
   "source": [
    "from __future__ import print_function"
   ]
  },
  {
   "cell_type": "code",
   "execution_count": 3,
   "metadata": {},
   "outputs": [
    {
     "name": "stdout",
     "output_type": "stream",
     "text": [
      "4\n",
      "1\n",
      "11\n",
      "111\n",
      "1111\n"
     ]
    }
   ],
   "source": [
    "n = int(input())\n",
    "for i in range(1,n+1,1):\n",
    "    for j in range(1,i+1,1):\n",
    "        print('1',end = '')\n",
    "    print()"
   ]
  },
  {
   "cell_type": "code",
   "execution_count": 5,
   "metadata": {},
   "outputs": [
    {
     "name": "stdout",
     "output_type": "stream",
     "text": [
      "4\n",
      "1\n",
      "11\n",
      "202\n",
      "3003\n"
     ]
    }
   ],
   "source": [
    "n = int(input())\n",
    "print('1')\n",
    "for i in range(1,n,1):\n",
    "    for j in range(0,i+1,1):\n",
    "        if j==0 or j==i:\n",
    "            print(i,end='')\n",
    "        else:\n",
    "            print('0',end='')\n",
    "    print()"
   ]
  },
  {
   "cell_type": "code",
   "execution_count": 7,
   "metadata": {},
   "outputs": [
    {
     "name": "stdout",
     "output_type": "stream",
     "text": [
      "4\n",
      "1\n",
      "11\n",
      "121\n",
      "1221\n"
     ]
    }
   ],
   "source": [
    "n = int(input())\n",
    "print('1')\n",
    "for i in range(1,n,1):\n",
    "    for j in range(0,i+1,1):\n",
    "        if j == 0 or j == i:\n",
    "            print('1',end='')\n",
    "        else:\n",
    "            print('2',end='')\n",
    "    print()"
   ]
  },
  {
   "cell_type": "code",
   "execution_count": 8,
   "metadata": {},
   "outputs": [
    {
     "name": "stdout",
     "output_type": "stream",
     "text": [
      "4\n",
      "1234\n",
      "123\n",
      "12\n",
      "1\n"
     ]
    }
   ],
   "source": [
    "n = int(input())\n",
    "for i in range(0,n,1):\n",
    "    for j in range(1,n-i+1,1):\n",
    "        print(j,end='')\n",
    "    print()"
   ]
  },
  {
   "cell_type": "code",
   "execution_count": 9,
   "metadata": {},
   "outputs": [
    {
     "name": "stdout",
     "output_type": "stream",
     "text": [
      "3\n",
      "A\n",
      "BB\n",
      "CCC\n"
     ]
    }
   ],
   "source": [
    "n = int(input())\n",
    "for i in range(1,n+1,1):\n",
    "    for j in range(1,i+1,1):\n",
    "        charp = chr(ord('A') + i -1)\n",
    "        print(charp,end='')\n",
    "    print()"
   ]
  },
  {
   "cell_type": "code",
   "execution_count": 16,
   "metadata": {},
   "outputs": [
    {
     "name": "stdout",
     "output_type": "stream",
     "text": [
      "5\n",
      "1                 1 \n",
      "1 2             2 1 \n",
      "1 2 3         3 2 1 \n",
      "1 2 3 4     4 3 2 1 \n",
      "1 2 3 4 5 5 4 3 2 1 \n"
     ]
    }
   ],
   "source": [
    "n = int(input())\n",
    "for i in range(1,n+1,1):\n",
    "    for j in range(1,i+1,1):\n",
    "        print(j,end=' ')\n",
    "    \n",
    "    for k in range(1,2*n-2*i+1,1):\n",
    "        print(' ',end=' ')\n",
    "    \n",
    "    for l in range(i,0,-1):\n",
    "        print(l,end=' ')\n",
    "        \n",
    "    print()"
   ]
  },
  {
   "cell_type": "code",
   "execution_count": 20,
   "metadata": {},
   "outputs": [
    {
     "name": "stdout",
     "output_type": "stream",
     "text": [
      "4\n",
      "*000*000*\n",
      "0*00*00*0\n",
      "00*0*0*00\n",
      "000***000\n"
     ]
    }
   ],
   "source": [
    "from __future__ import print_function\n",
    "n = int(input())\n",
    "start = 1\n",
    "mid = n+1\n",
    "end = n*2+1\n",
    "for i in range(1,n+1,1):\n",
    "    for j in range(1,2*n+2,1):\n",
    "        if j == start or j == mid or j == end:\n",
    "            print('*',end='')\n",
    "        else:\n",
    "            print('0',end='')\n",
    "    start+=1\n",
    "    end-=1\n",
    "    print()"
   ]
  },
  {
   "cell_type": "code",
   "execution_count": 21,
   "metadata": {},
   "outputs": [
    {
     "name": "stdout",
     "output_type": "stream",
     "text": [
      "4\n",
      "   1\n",
      "  212\n",
      " 32123\n",
      "4321234\n"
     ]
    }
   ],
   "source": [
    "n = int(input())\n",
    "for i in range(1,n+1,1):\n",
    "    for j in range(1,n-i+1,1):\n",
    "        print(' ',end='')\n",
    "    \n",
    "    for k in range(i,0,-1):\n",
    "        print(k,end='')\n",
    "        \n",
    "    for l in range(2,i+1,1):\n",
    "        print(l,end='')\n",
    "    \n",
    "    print()"
   ]
  },
  {
   "cell_type": "code",
   "execution_count": 5,
   "metadata": {},
   "outputs": [
    {
     "name": "stdout",
     "output_type": "stream",
     "text": [
      "11\n",
      "* \n",
      " * * \n",
      "  * * * \n",
      "   * * * * \n",
      "    * * * * * \n",
      "     * * * * * * \n",
      "    * * * * * \n",
      "   * * * * \n",
      "  * * * \n",
      " * * \n",
      "* \n"
     ]
    }
   ],
   "source": [
    "from __future__ import print_function\n",
    "n = int(input())\n",
    "mid = n//2\n",
    "for i in range(1,mid+2,1):\n",
    "    for j in range(1,i,1):\n",
    "        print(' ',end='')\n",
    "    for k in range(1,i+1,1):\n",
    "        print('* ',end='')\n",
    "    print()\n",
    "    \n",
    "for l in range(n-mid-1,0,-1):\n",
    "    for m in range(1,l,1):\n",
    "        print(' ',end='')\n",
    "    for n in range(1,l+1,1):\n",
    "        print('* ',end='')\n",
    "    print()"
   ]
  },
  {
   "cell_type": "code",
   "execution_count": 9,
   "metadata": {},
   "outputs": [
    {
     "name": "stdout",
     "output_type": "stream",
     "text": [
      "4\n",
      "1111\n",
      "000\n",
      "11\n",
      "0\n"
     ]
    }
   ],
   "source": [
    "n = int(input())\n",
    "for i in range(1,n+1,1):\n",
    "    for j in range(n,i-1,-1):\n",
    "        if i%2==0:\n",
    "            print('0',end='')\n",
    "        else:\n",
    "            print('1',end='')\n",
    "    print()"
   ]
  },
  {
   "cell_type": "code",
   "execution_count": 11,
   "metadata": {},
   "outputs": [
    {
     "name": "stdout",
     "output_type": "stream",
     "text": [
      "6\n",
      "123456\n",
      " 23456\n",
      "  3456\n",
      "   456\n",
      "    56\n",
      "     6\n",
      "    56\n",
      "   456\n",
      "  3456\n",
      " 23456\n",
      "123456\n"
     ]
    }
   ],
   "source": [
    "n = int(input())\n",
    "for i in range(1,n+1,1):\n",
    "    for k in range(1,i,1):\n",
    "        print(' ',end='')\n",
    "    for j in range(i,n+1,1):\n",
    "        print(j,end='')\n",
    "    print()\n",
    "for l in range(1,n,1):\n",
    "    for o in range(l,n-1,1):\n",
    "        print(' ',end='')\n",
    "    for m in range(n-l,n+1,1):\n",
    "        print(m,end='')\n",
    "    print()"
   ]
  },
  {
   "cell_type": "code",
   "execution_count": 14,
   "metadata": {},
   "outputs": [
    {
     "name": "stdout",
     "output_type": "stream",
     "text": [
      "7\n",
      "   *\n",
      "  ***\n",
      " *****\n",
      "*******\n",
      " *****\n",
      "  ***\n",
      "   *\n"
     ]
    }
   ],
   "source": [
    "n = int(input())\n",
    "n1 = (n+1)//2\n",
    "n2 = n//2\n",
    "for i in range(1,n1+1,1):\n",
    "    for j in range(1,n1-i+1,1):\n",
    "        print(' ',end='')\n",
    "    for k in range(1,2*i,1):\n",
    "        print('*',end='')\n",
    "    print()\n",
    "for l in range(n2,0,-1):\n",
    "    for m in range(1,n2-l+2,1):\n",
    "        print(' ',end='')\n",
    "    for o in range(1,2*l,1):\n",
    "        print('*',end='')\n",
    "    print()"
   ]
  },
  {
   "cell_type": "code",
   "execution_count": 20,
   "metadata": {},
   "outputs": [
    {
     "name": "stdout",
     "output_type": "stream",
     "text": [
      "4\n",
      "4444444\n",
      "4333334\n",
      "4322234\n",
      "4321234\n",
      "4322234\n",
      "4333334\n",
      "4444444\n"
     ]
    }
   ],
   "source": [
    "n = int(input())\n",
    "for i in range(1,n+1,1):\n",
    "    temp = n\n",
    "    for j in range(1,i,1):\n",
    "        print(temp,end='')\n",
    "        temp-=1\n",
    "    for j in range(1,2*n-2*i+2,1):\n",
    "        print(n-i+1,end='')\n",
    "    for j in range(1,i,1):\n",
    "        temp+=1\n",
    "        print(temp,end='')\n",
    "    print()\n",
    "    \n",
    "for i in range(n-1,0,-1):\n",
    "    temp = n\n",
    "    for j in range(1,i,1):\n",
    "        print(temp,end='')\n",
    "        temp-=1\n",
    "    for j in range(1,2*n-2*i+2,1):\n",
    "        print(n-i+1,end='')\n",
    "    for j in range(1,i,1):\n",
    "        temp+=1\n",
    "        print(temp,end='')\n",
    "    print()"
   ]
  },
  {
   "cell_type": "code",
   "execution_count": 22,
   "metadata": {},
   "outputs": [
    {
     "name": "stdout",
     "output_type": "stream",
     "text": [
      "4\n",
      "1 2 3 4 \n",
      "9 10 11 12 \n",
      "13 14 15 16 \n",
      "5 6 7 8 \n"
     ]
    }
   ],
   "source": [
    "n = int(input())\n",
    "start = 1\n",
    "for i in range(1,n+1,1):\n",
    "    for j in range(start,start+n,1):\n",
    "        print(j,end=' ')\n",
    "    print()\n",
    "    if i==(n+1)//2:\n",
    "        if n%2!=0:\n",
    "            start = n*(n-2)+1\n",
    "        else:\n",
    "            start = n*(n-1)+1\n",
    "    elif i>(n+1)//2:\n",
    "        start = start - 2*n\n",
    "    else:\n",
    "        start = start + n*2"
   ]
  },
  {
   "cell_type": "code",
   "execution_count": null,
   "metadata": {},
   "outputs": [],
   "source": []
  }
 ],
 "metadata": {
  "kernelspec": {
   "display_name": "Python 2",
   "language": "python",
   "name": "python2"
  },
  "language_info": {
   "codemirror_mode": {
    "name": "ipython",
    "version": 2
   },
   "file_extension": ".py",
   "mimetype": "text/x-python",
   "name": "python",
   "nbconvert_exporter": "python",
   "pygments_lexer": "ipython2",
   "version": "2.7.15+"
  }
 },
 "nbformat": 4,
 "nbformat_minor": 2
}
