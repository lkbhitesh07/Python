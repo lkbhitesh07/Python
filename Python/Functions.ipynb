{
 "cells": [
  {
   "cell_type": "markdown",
   "metadata": {},
   "source": [
    "# F to C"
   ]
  },
  {
   "cell_type": "code",
   "execution_count": 2,
   "metadata": {},
   "outputs": [
    {
     "name": "stdout",
     "output_type": "stream",
     "text": [
      "0\n",
      "100\n",
      "20\n",
      "0 -17\n",
      "20 -6\n",
      "40 4\n",
      "60 15\n",
      "80 26\n",
      "100 37\n"
     ]
    }
   ],
   "source": [
    "def table(s,e,gap):\n",
    "    for i in range(s,e+1,gap):\n",
    "        cel1 = (i-32)*5/9\n",
    "        cel = int(float(cel1))\n",
    "        print(i, cel)\n",
    "\n",
    "s = int(input())\n",
    "e = int(input())\n",
    "gap = int(input())\n",
    "table(s,e,gap)"
   ]
  },
  {
   "cell_type": "markdown",
   "metadata": {},
   "source": [
    "# fibonacci?"
   ]
  },
  {
   "cell_type": "code",
   "execution_count": 6,
   "metadata": {},
   "outputs": [
    {
     "name": "stdout",
     "output_type": "stream",
     "text": [
      "14\n",
      "false\n"
     ]
    }
   ],
   "source": [
    "def checkNumber(n):\n",
    "    a = 0\n",
    "    b = 1\n",
    "    c = 1\n",
    "    for i in range(1,1000,1):\n",
    "        c = a+b\n",
    "        a = b\n",
    "        b = c\n",
    "        if c==n:\n",
    "            return 'true'\n",
    "        elif n==0:\n",
    "            return 'true'\n",
    "    else:\n",
    "        return 'false'\n",
    "\n",
    "n = int(input())\n",
    "ans = checkNumber(n)\n",
    "print(ans)"
   ]
  },
  {
   "cell_type": "markdown",
   "metadata": {},
   "source": [
    "# pallindrome"
   ]
  },
  {
   "cell_type": "code",
   "execution_count": 10,
   "metadata": {},
   "outputs": [
    {
     "name": "stdout",
     "output_type": "stream",
     "text": [
      "121\n"
     ]
    },
    {
     "data": {
      "text/plain": [
       "'true'"
      ]
     },
     "execution_count": 10,
     "metadata": {},
     "output_type": "execute_result"
    }
   ],
   "source": [
    "def checkPalind(n):\n",
    "    rev = 0\n",
    "    a = n\n",
    "    while n>0:\n",
    "        dig = n%10\n",
    "        rev = rev*10 + dig\n",
    "        n = n//10\n",
    "    if rev == a:\n",
    "        return 'true'\n",
    "    else:\n",
    "        return 'false'\n",
    "\n",
    "n = int(input())\n",
    "checkPalind(n)"
   ]
  },
  {
   "cell_type": "markdown",
   "metadata": {},
   "source": [
    "# Armstrong"
   ]
  },
  {
   "cell_type": "code",
   "execution_count": 14,
   "metadata": {},
   "outputs": [
    {
     "name": "stdout",
     "output_type": "stream",
     "text": [
      "371\n",
      "true\n"
     ]
    }
   ],
   "source": [
    "def checkArms(n):\n",
    "    num = 0\n",
    "    a = n\n",
    "    order = len(str(n))\n",
    "    while n>0:\n",
    "        digit = n%10\n",
    "        num = num + digit**order\n",
    "        n = n//10\n",
    "    if num == a:\n",
    "        return 'true'\n",
    "    else:\n",
    "        return 'false'\n",
    "\n",
    "n = int(input())\n",
    "ans = checkArms(n)\n",
    "print(ans)"
   ]
  },
  {
   "cell_type": "markdown",
   "metadata": {},
   "source": [
    "# Module"
   ]
  },
  {
   "cell_type": "code",
   "execution_count": 1,
   "metadata": {},
   "outputs": [
    {
     "name": "stdout",
     "output_type": "stream",
     "text": [
      "2\n",
      "3\n",
      "1\n",
      "3\n",
      "2\n"
     ]
    }
   ],
   "source": [
    "# We can import modules, modules are the pre function made by others or by python itself, we can use these modules\n",
    "# to our code to make it easier for example.\n",
    "import random\n",
    "for i in range(5):\n",
    "    result = random.randint(1,6)\n",
    "    print(result)"
   ]
  }
 ],
 "metadata": {
  "kernelspec": {
   "display_name": "Python 3",
   "language": "python",
   "name": "python3"
  },
  "language_info": {
   "codemirror_mode": {
    "name": "ipython",
    "version": 3
   },
   "file_extension": ".py",
   "mimetype": "text/x-python",
   "name": "python",
   "nbconvert_exporter": "python",
   "pygments_lexer": "ipython3",
   "version": "3.6.9"
  }
 },
 "nbformat": 4,
 "nbformat_minor": 2
}
