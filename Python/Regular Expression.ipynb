{
 "cells": [
  {
   "cell_type": "code",
   "execution_count": 10,
   "metadata": {},
   "outputs": [
    {
     "name": "stdout",
     "output_type": "stream",
     "text": [
      "Match not found\n",
      "Match found\n",
      "['eggs', 'eggs']\n"
     ]
    }
   ],
   "source": [
    "import re\n",
    "\n",
    "pattern = r\"eggs\"\n",
    "\n",
    "# starting of statement should be the word we are looking for\n",
    "#match function\n",
    "if re.match(pattern,'baconeggseggseggsbacon'):\n",
    "    print('Match found')\n",
    "    \n",
    "else:\n",
    "    print('Match not found')\n",
    "    \n",
    "#search function\n",
    "# as we know in match function it only checks the starting strings but here it will search throughout the string\n",
    "\n",
    "if re.search(pattern,'baconeggseggseggsbacon'):\n",
    "    print('Match found')\n",
    "    \n",
    "else:\n",
    "    print('Match not found')\n",
    "    \n",
    "#findall function\n",
    "# this function will display the number of times our pattern repeated.\n",
    "\n",
    "print(re.findall(pattern,'baconeggseggsbacon'))"
   ]
  },
  {
   "cell_type": "markdown",
   "metadata": {},
   "source": [
    "### Find and Replace"
   ]
  },
  {
   "cell_type": "code",
   "execution_count": 12,
   "metadata": {},
   "outputs": [
    {
     "name": "stdout",
     "output_type": "stream",
     "text": [
      "Hello my name is tatti, tatti is my namme\n"
     ]
    }
   ],
   "source": [
    "import re\n",
    "\n",
    "string = 'Hello my name is john, john is my namme'\n",
    "pattern = r'john'\n",
    "\n",
    "new_string = re.sub(pattern, 'tatti', string)\n",
    "print(new_string)"
   ]
  },
  {
   "cell_type": "markdown",
   "metadata": {},
   "source": [
    "### Dot metacharacter"
   ]
  },
  {
   "cell_type": "code",
   "execution_count": 38,
   "metadata": {},
   "outputs": [
    {
     "name": "stdout",
     "output_type": "stream",
     "text": [
      "Match found\n"
     ]
    }
   ],
   "source": [
    "import re\n",
    "\n",
    "pattern = r\"(.)*gr(.)*y(.)*\" #here (.)* represents many characters but in between we should have pattern\n",
    "\n",
    "if re.match(pattern,'abcdef_grebcdy_abcdef'):\n",
    "    print('Match found')\n",
    "    \n",
    "else:\n",
    "    print('Match not found')\n",
    "    \n",
    "# here at the place of '.' anything can come. here . will be the single character"
   ]
  },
  {
   "cell_type": "markdown",
   "metadata": {},
   "source": [
    "### caret and dollar metacharacter"
   ]
  },
  {
   "cell_type": "code",
   "execution_count": 24,
   "metadata": {},
   "outputs": [
    {
     "name": "stdout",
     "output_type": "stream",
     "text": [
      "Match found\n"
     ]
    }
   ],
   "source": [
    "import re\n",
    "\n",
    "pattern = r'^gr.y$'\n",
    "\n",
    "if re.match(pattern,'grey'):\n",
    "    print('Match found')\n",
    "    \n",
    "else:\n",
    "    print('Not found')\n",
    "    \n",
    "#caret sign for starting point and the dollar for the ending point"
   ]
  },
  {
   "cell_type": "markdown",
   "metadata": {},
   "source": [
    "### Character class"
   ]
  },
  {
   "cell_type": "code",
   "execution_count": 26,
   "metadata": {},
   "outputs": [
    {
     "name": "stdout",
     "output_type": "stream",
     "text": [
      "found\n"
     ]
    }
   ],
   "source": [
    "import re\n",
    "\n",
    "pattern = r\"[0-9][A-Z][0-9][0-9][0-9]\"\n",
    "\n",
    "if re.match(pattern, '5E304'):\n",
    "    print('found')\n",
    "    \n",
    "else:\n",
    "    print('not found')"
   ]
  },
  {
   "cell_type": "markdown",
   "metadata": {},
   "source": [
    "### star metacharacter"
   ]
  },
  {
   "cell_type": "code",
   "execution_count": 32,
   "metadata": {},
   "outputs": [
    {
     "name": "stdout",
     "output_type": "stream",
     "text": [
      "found\n"
     ]
    }
   ],
   "source": [
    "import re\n",
    "\n",
    "pattern = r\"eggs(bacon)*\" #here meaning is bacon can be obtain many times as it wants\n",
    "\n",
    "if re.search(pattern, \"baconeggs\"): #here it's true because * allows the bacon for repeating 0,1,etc times and\n",
    "    #here we found eggs and bacon is 0\n",
    "    print('found')\n",
    "\n",
    "else:\n",
    "    print('not found')"
   ]
  },
  {
   "cell_type": "markdown",
   "metadata": {},
   "source": [
    "### for checking various types of emails"
   ]
  },
  {
   "cell_type": "code",
   "execution_count": 39,
   "metadata": {},
   "outputs": [
    {
     "name": "stdout",
     "output_type": "stream",
     "text": [
      "enter your email: lkbhitesh07@gmail.com\n",
      "true\n"
     ]
    }
   ],
   "source": [
    "import re\n",
    "\n",
    "email = input('enter your email: ')\n",
    "pattern = r\"[^@]+@[^@]+.[^@]+\"  #here [^@] meaning of this is anything can come except '@' and + for charcters.\n",
    "\n",
    "if re.match(pattern, email):\n",
    "    print('true')\n",
    "else:\n",
    "    print('false')"
   ]
  }
 ],
 "metadata": {
  "kernelspec": {
   "display_name": "Python 3",
   "language": "python",
   "name": "python3"
  },
  "language_info": {
   "codemirror_mode": {
    "name": "ipython",
    "version": 3
   },
   "file_extension": ".py",
   "mimetype": "text/x-python",
   "name": "python",
   "nbconvert_exporter": "python",
   "pygments_lexer": "ipython3",
   "version": "3.6.9"
  }
 },
 "nbformat": 4,
 "nbformat_minor": 2
}
