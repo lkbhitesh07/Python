{
 "cells": [
  {
   "cell_type": "code",
   "execution_count": 16,
   "metadata": {},
   "outputs": [
    {
     "name": "stdout",
     "output_type": "stream",
     "text": [
      "enter product name: 2\n",
      "two\n"
     ]
    }
   ],
   "source": [
    "local_dict = {1: 'one', 2: 'two', 3: 'three', 4: 'four', 5: 'five'}\n",
    "newproduct = int(input('enter product name: '))\n",
    "if newproduct in local_dict:\n",
    "    print(local_dict.get(newproduct))\n",
    "else:\n",
    "    print('not found')"
   ]
  },
  {
   "cell_type": "code",
   "execution_count": null,
   "metadata": {},
   "outputs": [],
   "source": [
    "# list que\n",
    "new_list = list(range(1,100))\n",
    "for x in new_list:\n",
    "    if x%2!=0:\n",
    "        print(x)"
   ]
  },
  {
   "cell_type": "markdown",
   "metadata": {},
   "source": [
    "# Functional Arguments"
   ]
  },
  {
   "cell_type": "code",
   "execution_count": 3,
   "metadata": {},
   "outputs": [
    {
     "name": "stdout",
     "output_type": "stream",
     "text": [
      "30\n"
     ]
    }
   ],
   "source": [
    "def add_ten(x):\n",
    "    return x+10\n",
    "\n",
    "def twice(func, arg):\n",
    "    return func(func(arg))\n",
    "\n",
    "print(twice(add_ten, 10))"
   ]
  },
  {
   "cell_type": "markdown",
   "metadata": {},
   "source": [
    "### lambda"
   ]
  },
  {
   "cell_type": "code",
   "execution_count": 8,
   "metadata": {},
   "outputs": [
    {
     "name": "stdout",
     "output_type": "stream",
     "text": [
      "900\n",
      "10485760000000000\n",
      "20\n",
      "200\n"
     ]
    }
   ],
   "source": [
    "result = (lambda x: x**2)(30)\n",
    "print(result)\n",
    "\n",
    "print((lambda x: x**10)(40))\n",
    "\n",
    "var = int(input())\n",
    "print((lambda x: x*10)(var))"
   ]
  },
  {
   "cell_type": "markdown",
   "metadata": {},
   "source": [
    "### Maps"
   ]
  },
  {
   "cell_type": "code",
   "execution_count": 8,
   "metadata": {},
   "outputs": [
    {
     "name": "stdout",
     "output_type": "stream",
     "text": [
      "[20, 40, 60, 80, 100]\n"
     ]
    }
   ],
   "source": [
    "# these are use to apply a particular function to a list\n",
    "new_list = [10,20,30,40,50]\n",
    "\n",
    "result = list(map(lambda x: x*2, new_list))  # here map takes 2 args one the func other is list then store it.\n",
    "print(result)"
   ]
  },
  {
   "cell_type": "markdown",
   "metadata": {},
   "source": [
    "### Filter"
   ]
  },
  {
   "cell_type": "code",
   "execution_count": 9,
   "metadata": {},
   "outputs": [
    {
     "name": "stdout",
     "output_type": "stream",
     "text": [
      "[2, 4, 6, 8, 10]\n"
     ]
    }
   ],
   "source": [
    "newlist = [1,2,3,4,5,6,7,8,9,10]\n",
    "\n",
    "result = list(filter(lambda x: x%2==0, newlist))\n",
    "print(result)"
   ]
  },
  {
   "cell_type": "markdown",
   "metadata": {},
   "source": [
    "### Generators"
   ]
  },
  {
   "cell_type": "code",
   "execution_count": 12,
   "metadata": {},
   "outputs": [
    {
     "name": "stdout",
     "output_type": "stream",
     "text": [
      "0\n",
      "1\n",
      "2\n",
      "3\n",
      "4\n",
      "[0, 2, 4, 6, 8, 10, 12, 14, 16, 18, 20]\n"
     ]
    }
   ],
   "source": [
    "def counter_number():\n",
    "    counter = 0\n",
    "    while counter<5:\n",
    "        yield counter\n",
    "        counter+=1\n",
    "        \n",
    "for i in counter_number():\n",
    "    print(i)\n",
    "    \n",
    "    \n",
    "def even_number(x):\n",
    "    for data in range(x):\n",
    "        if data%2 == 0:\n",
    "            yield data\n",
    "            \n",
    "print(list(even_number(21)))"
   ]
  },
  {
   "cell_type": "code",
   "execution_count": 14,
   "metadata": {},
   "outputs": [
    {
     "name": "stdout",
     "output_type": "stream",
     "text": [
      "900\n",
      "850\n",
      "85.5\n"
     ]
    }
   ],
   "source": [
    "# question\n",
    "\n",
    "def func1(price):\n",
    "    return price - (price*10)//100\n",
    "\n",
    "def func2(price):\n",
    "    return price - (price*15)//100\n",
    "\n",
    "price = 1000\n",
    "\n",
    "print(func1(price))\n",
    "print(func2(price))\n",
    "\n",
    "# different\n",
    "\n",
    "def student_discount(price):\n",
    "    price = price - (price * 10) / 100\n",
    "    return price\n",
    "     \n",
    "def additional_discount(newprice):\n",
    "    newprice = newprice - (newprice * 5) / 100\n",
    "    return newprice\n",
    "     \n",
    "selling_price = 100\n",
    "     \n",
    "#applying both discounts simultaneously\n",
    "     \n",
    "print(additional_discount(student_discount(selling_price)))"
   ]
  },
  {
   "cell_type": "code",
   "execution_count": 12,
   "metadata": {},
   "outputs": [
    {
     "name": "stdout",
     "output_type": "stream",
     "text": [
      "500\n",
      "[90.0, 180.0, 270.0, 360.0, 450.0]\n"
     ]
    }
   ],
   "source": [
    "print((lambda x: x*(x+5)**2)(5))\n",
    "\n",
    "def discount(price):\n",
    "    return price-(price*10)/100\n",
    "\n",
    "product_rate = [100,200,300,400,500]\n",
    "updated_price = list(map(discount, product_rate))\n",
    "print(updated_price)"
   ]
  },
  {
   "cell_type": "markdown",
   "metadata": {},
   "source": [
    "# Ittertools"
   ]
  },
  {
   "cell_type": "code",
   "execution_count": 4,
   "metadata": {},
   "outputs": [
    {
     "name": "stdout",
     "output_type": "stream",
     "text": [
      "[0, 1, 3, 6, 10, 15, 21, 28]\n"
     ]
    }
   ],
   "source": [
    "from itertools import accumulate\n",
    "\n",
    "numbers = list(accumulate(range(8)))\n",
    "print(numbers)"
   ]
  },
  {
   "cell_type": "code",
   "execution_count": 6,
   "metadata": {},
   "outputs": [
    {
     "name": "stdout",
     "output_type": "stream",
     "text": [
      "[0, 1, 3, 6, 10, 15, 21, 28]\n",
      "[0, 1, 3, 6, 10]\n"
     ]
    }
   ],
   "source": [
    "from itertools import takewhile, accumulate\n",
    "\n",
    "numbers = list(accumulate(range(8)))\n",
    "print(numbers)\n",
    "print(list(takewhile(lambda x: x<=10, numbers)))"
   ]
  },
  {
   "cell_type": "markdown",
   "metadata": {},
   "source": [
    "# Operator Overloading"
   ]
  },
  {
   "cell_type": "code",
   "execution_count": 10,
   "metadata": {},
   "outputs": [
    {
     "name": "stdout",
     "output_type": "stream",
     "text": [
      "1\n",
      "1\n",
      "2\n",
      "1\n",
      "3\n",
      "(4,4)\n"
     ]
    }
   ],
   "source": [
    "class Point:\n",
    "    def __init__(self, x, y):\n",
    "        self.x = x\n",
    "        self.y = y\n",
    "        print(\"1\")\n",
    "        \n",
    "    def __add__(self, other):\n",
    "        x = self.x + other.x\n",
    "        y = self.y = other.y\n",
    "        print(\"2\")\n",
    "        return Point(x,y)\n",
    "    \n",
    "    def __str__(self):\n",
    "        print(\"3\")\n",
    "        return \"({},{})\".format(self.x, self.y)\n",
    "    \n",
    "point1 = Point(1,2)\n",
    "point2 = Point(3,4)\n",
    "print(point1+point2)"
   ]
  },
  {
   "cell_type": "markdown",
   "metadata": {},
   "source": [
    "### Question"
   ]
  },
  {
   "cell_type": "code",
   "execution_count": 11,
   "metadata": {},
   "outputs": [
    {
     "name": "stdout",
     "output_type": "stream",
     "text": [
      "Please enter the details\n",
      "Enter Ram Size16\n",
      "Memory size2\n",
      "Enter processor8\n",
      "Enter weight1kg\n",
      "Here are the specs of the computer\n",
      " Ram size is: 16 Memory size is: 2 processor is: 8\n",
      "weight is: 1kg\n"
     ]
    }
   ],
   "source": [
    "    class Computer:\n",
    "        def __init__(self, ram, memory, processor):\n",
    "            self.ram = ram\n",
    "            self.memory = memory\n",
    "            self.processor = processor\n",
    "     \n",
    "        def getspecs(self):\n",
    "            print('Please enter the details')\n",
    "            self.ram = input('Enter Ram Size')\n",
    "            self.memory = input('Memory size')\n",
    "            self.processor = input('Enter processor')\n",
    "     \n",
    "        def displayspecs(self):\n",
    "            print('Here are the specs of the computer')\n",
    "            print(' Ram size is: ' + self.ram + ' Memory size is: ' + self.memory + ' processor is: ' + self.processor)\n",
    "     \n",
    "     \n",
    "    class Desktop(Computer):\n",
    "        def __init__(self, casecolor):\n",
    "            self.casecolor = casecolor\n",
    "     \n",
    "        def get_case_details(self):\n",
    "            self.casecolor = input('Enter case color')\n",
    "     \n",
    "        def put_case_details(self):\n",
    "            print('case color is: ' + self.casecolor)\n",
    "     \n",
    "     \n",
    "    class Laptop(Computer):\n",
    "        def __init__(self, weight):\n",
    "            self.weight = weight\n",
    "     \n",
    "        def getweight(self):\n",
    "            self.weight = input('Enter weight')\n",
    "     \n",
    "        def displayweight(self):\n",
    "            print('weight is: ' + self.weight)\n",
    "     \n",
    "     \n",
    "    comp = Laptop('');\n",
    "     \n",
    "    comp.getspecs()\n",
    "     \n",
    "    comp.getweight()\n",
    "     \n",
    "    comp.displayspecs()\n",
    "     \n",
    "    comp.displayweight()"
   ]
  },
  {
   "cell_type": "markdown",
   "metadata": {},
   "source": [
    "### Question"
   ]
  },
  {
   "cell_type": "code",
   "execution_count": 13,
   "metadata": {},
   "outputs": [
    {
     "name": "stdout",
     "output_type": "stream",
     "text": [
      "5\n"
     ]
    }
   ],
   "source": [
    "class Mul:\n",
    "    def __init__(self,x):\n",
    "        self.x = x\n",
    "        \n",
    "    def __mul__(self, other):\n",
    "        return self.x + other.x\n",
    "    \n",
    "point1 = Mul(2)\n",
    "point2 = Mul(3)\n",
    "print(point1*point2)\n",
    "\n",
    "# here multiplication operator working as addition operator"
   ]
  }
 ],
 "metadata": {
  "kernelspec": {
   "display_name": "Python 3",
   "language": "python",
   "name": "python3"
  },
  "language_info": {
   "codemirror_mode": {
    "name": "ipython",
    "version": 3
   },
   "file_extension": ".py",
   "mimetype": "text/x-python",
   "name": "python",
   "nbconvert_exporter": "python",
   "pygments_lexer": "ipython3",
   "version": "3.6.9"
  }
 },
 "nbformat": 4,
 "nbformat_minor": 2
}
