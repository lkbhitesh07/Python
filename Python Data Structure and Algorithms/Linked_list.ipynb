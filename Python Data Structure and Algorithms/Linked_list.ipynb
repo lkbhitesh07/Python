{
 "cells": [
  {
   "cell_type": "code",
   "execution_count": 1,
   "metadata": {},
   "outputs": [
    {
     "name": "stdout",
     "output_type": "stream",
     "text": [
      "12\n",
      "13\n",
      "13\n"
     ]
    }
   ],
   "source": [
    "class Node:\n",
    "    def __init__(self,data):\n",
    "        self.data = data\n",
    "        self.next = None\n",
    "        \n",
    "a = Node(12)\n",
    "b = Node(13)\n",
    "a.next = b\n",
    "print(a.data)\n",
    "print(b.data)\n",
    "print(a.next.data)"
   ]
  },
  {
   "cell_type": "markdown",
   "metadata": {},
   "source": [
    "# input for LL part-1"
   ]
  },
  {
   "cell_type": "code",
   "execution_count": 3,
   "metadata": {},
   "outputs": [
    {
     "name": "stdout",
     "output_type": "stream",
     "text": [
      "1 2 3 4 5 6 -1\n",
      "1->2->3->4->5->6->None\n"
     ]
    }
   ],
   "source": [
    "class Node:                   # Time complexity is o(n^2), which is more.\n",
    "    def __init__(self,data):\n",
    "        self.data = data\n",
    "        self.next = None\n",
    "    \n",
    "def printLL(head):\n",
    "    while head is not None:\n",
    "        print(str(head.data)+'->',end='')\n",
    "        head = head.next\n",
    "    print('None')\n",
    "    return\n",
    "    \n",
    "def takeInput():\n",
    "    input_list = [int(ele) for ele in input().split()]\n",
    "    head = None\n",
    "    for cur_data in input_list:\n",
    "        if cur_data is -1:\n",
    "            break\n",
    "        new_node = Node(cur_data)\n",
    "        if head is None:\n",
    "            head = new_node\n",
    "        else:\n",
    "            curr = head\n",
    "            while curr.next is not None:\n",
    "                curr = curr.next\n",
    "            curr.next = new_node\n",
    "    return head\n",
    "\n",
    "head = takeInput()\n",
    "printLL(head)"
   ]
  },
  {
   "cell_type": "markdown",
   "metadata": {},
   "source": [
    "# input for LL part-2"
   ]
  },
  {
   "cell_type": "code",
   "execution_count": 6,
   "metadata": {},
   "outputs": [
    {
     "name": "stdout",
     "output_type": "stream",
     "text": [
      "1 2 3 4 5 6 -1\n",
      "1->2->3->4->5->6->None\n"
     ]
    }
   ],
   "source": [
    "class Node:                 \n",
    "    def __init__(self,data):\n",
    "        self.data = data\n",
    "        self.next = None\n",
    "    \n",
    "def printLL(head):\n",
    "    while head is not None:\n",
    "        print(str(head.data)+'->',end='')\n",
    "        head = head.next\n",
    "    print('None')\n",
    "    return\n",
    "    \n",
    "def takeInput():\n",
    "    input_list = [int(ele) for ele in input().split()]\n",
    "    head = None\n",
    "    tail = None\n",
    "    for cur_data in input_list:\n",
    "        if cur_data is -1:\n",
    "            break\n",
    "        new_node = Node(cur_data)\n",
    "        if head is None:\n",
    "            head = new_node\n",
    "            tail = new_node\n",
    "        else:\n",
    "            tail.next = new_node\n",
    "            tail = new_node\n",
    "    return head\n",
    "\n",
    "head = takeInput()\n",
    "printLL(head)"
   ]
  },
  {
   "cell_type": "markdown",
   "metadata": {},
   "source": [
    "# lengthLL"
   ]
  },
  {
   "cell_type": "code",
   "execution_count": 10,
   "metadata": {},
   "outputs": [
    {
     "name": "stdout",
     "output_type": "stream",
     "text": [
      "1 2 3 4 5 6 -1\n"
     ]
    },
    {
     "data": {
      "text/plain": [
       "6"
      ]
     },
     "execution_count": 10,
     "metadata": {},
     "output_type": "execute_result"
    }
   ],
   "source": [
    "class Node:\n",
    "    def __init__(self,data):\n",
    "        self.data = data\n",
    "        self.next = None\n",
    "\n",
    "def lengthLL(head):\n",
    "    count = 0\n",
    "    while head is not None:\n",
    "        count+=1\n",
    "        head = head.next\n",
    "    return count\n",
    "        \n",
    "def takeInput():\n",
    "    input_list = [int(ele) for ele in input().split()]\n",
    "    head = None\n",
    "    tail = None\n",
    "    for cur_data in input_list:\n",
    "        if cur_data is -1:\n",
    "            break\n",
    "        new_node = Node(cur_data)\n",
    "        if head is None:\n",
    "            head = new_node\n",
    "            tail = new_node\n",
    "        else:\n",
    "            tail.next = new_node\n",
    "            tail = new_node\n",
    "    return head\n",
    "\n",
    "head = takeInput()\n",
    "lengthLL(head)"
   ]
  },
  {
   "cell_type": "markdown",
   "metadata": {},
   "source": [
    "# Length recursive"
   ]
  },
  {
   "cell_type": "code",
   "execution_count": 15,
   "metadata": {},
   "outputs": [
    {
     "name": "stdout",
     "output_type": "stream",
     "text": [
      "1 2 3 4 5 6 -1\n",
      "6\n"
     ]
    }
   ],
   "source": [
    "class Node:\n",
    "    def __init__(self,data):\n",
    "        self.data = data\n",
    "        self.next = None\n",
    "        \n",
    "def lengthLL(head):\n",
    "    if head is None:\n",
    "        return 0\n",
    "    result = lengthLL(head.next)\n",
    "    return result+1\n",
    "\n",
    "def takeInput():\n",
    "    input_list = [int(ele) for ele in input().split()]\n",
    "    head = None\n",
    "    tail = None\n",
    "    for cur_data in input_list:\n",
    "        if cur_data is -1:\n",
    "            break\n",
    "        new_node = Node(cur_data)\n",
    "        if head is None:\n",
    "            head = new_node\n",
    "            tail = new_node\n",
    "        else:\n",
    "            tail.next = new_node\n",
    "            tail = new_node\n",
    "    return head\n",
    "\n",
    "head = takeInput()\n",
    "length = lengthLL(head)\n",
    "print(length)"
   ]
  },
  {
   "cell_type": "markdown",
   "metadata": {},
   "source": [
    "# ith LL"
   ]
  },
  {
   "cell_type": "code",
   "execution_count": 11,
   "metadata": {},
   "outputs": [
    {
     "name": "stdout",
     "output_type": "stream",
     "text": [
      "1 2 3 4 5 6 -1\n",
      "3\n"
     ]
    },
    {
     "data": {
      "text/plain": [
       "4"
      ]
     },
     "execution_count": 11,
     "metadata": {},
     "output_type": "execute_result"
    }
   ],
   "source": [
    "class Node:\n",
    "    def __init__(self,data):\n",
    "        self.data = data\n",
    "        self.next = None\n",
    "\n",
    "def lengthLL(head,i):\n",
    "    count = 0\n",
    "    while head is not None:\n",
    "        if count == i:\n",
    "            return head.data\n",
    "        else:\n",
    "            head = head.next\n",
    "            count+=1\n",
    "    return count\n",
    "        \n",
    "def takeInput():\n",
    "    input_list = [int(ele) for ele in input().split()]\n",
    "    head = None\n",
    "    tail = None\n",
    "    for cur_data in input_list:\n",
    "        if cur_data is -1:\n",
    "            break\n",
    "        new_node = Node(cur_data)\n",
    "        if head is None:\n",
    "            head = new_node\n",
    "            tail = new_node\n",
    "        else:\n",
    "            tail.next = new_node\n",
    "            tail = new_node\n",
    "    return head\n",
    "\n",
    "head = takeInput()\n",
    "i = int(input())\n",
    "lengthLL(head,i)"
   ]
  },
  {
   "cell_type": "markdown",
   "metadata": {},
   "source": [
    "# Insert at ith"
   ]
  },
  {
   "cell_type": "code",
   "execution_count": 5,
   "metadata": {},
   "outputs": [
    {
     "name": "stdout",
     "output_type": "stream",
     "text": [
      "1 2 3 4 5 6\n",
      "1->2->3->8->4->5->6->None\n",
      "9->1->2->3->8->4->5->6->None\n"
     ]
    }
   ],
   "source": [
    "class Node:\n",
    "    def __init__(self,data):\n",
    "        self.data = data\n",
    "        self.next = None\n",
    "\n",
    "def insertNode():\n",
    "    li = [int(ele) for ele in input().split()]\n",
    "    head = None\n",
    "    tail = None\n",
    "    for ele in li:\n",
    "        if ele is -1:\n",
    "            break\n",
    "        newNode = Node(ele)\n",
    "        if head is None:\n",
    "            head = newNode\n",
    "            tail = newNode\n",
    "        else:\n",
    "            tail.next = newNode\n",
    "            tail = tail.next\n",
    "    return head\n",
    "\n",
    "def length(head):\n",
    "    count = 0\n",
    "    while head is not None:\n",
    "        count += 1\n",
    "        head = head.next\n",
    "    return count\n",
    "\n",
    "def insert_i(head,i,data):\n",
    "    if i<0 or i>length(head):\n",
    "        return head\n",
    "    count = 0\n",
    "    prev = None\n",
    "    curr = head\n",
    "    while count<i:\n",
    "        prev = curr\n",
    "        curr = curr.next\n",
    "        count += 1\n",
    "    new_node = Node(data)\n",
    "    if prev is not None:\n",
    "        prev.next = new_node\n",
    "    else:\n",
    "        head = new_node\n",
    "    new_node.next = curr\n",
    "    return head\n",
    "\n",
    "def printLL(head):\n",
    "    while head is not None:\n",
    "        print(str(head.data)+'->',end='')\n",
    "        head = head.next\n",
    "    print('None')\n",
    "    \n",
    "head = insertNode()\n",
    "head = insert_i(head,3,8)\n",
    "printLL(head)\n",
    "head = insert_i(head,0,9)\n",
    "printLL(head)"
   ]
  },
  {
   "cell_type": "markdown",
   "metadata": {},
   "source": [
    "# ith position recursively"
   ]
  },
  {
   "cell_type": "code",
   "execution_count": 16,
   "metadata": {},
   "outputs": [
    {
     "name": "stdout",
     "output_type": "stream",
     "text": [
      "1 2 3 4 5 6 -1\n",
      "1->2->3->8->4->5->6->None\n"
     ]
    }
   ],
   "source": [
    "class Node:\n",
    "    def __init__(self,data):\n",
    "        self.data = data\n",
    "        self.next = None\n",
    "        \n",
    "def insert_i(head,i,data):\n",
    "    if i == 0:\n",
    "        new_node = Node(data)\n",
    "        new_node.next = head\n",
    "        return new_node\n",
    "    \n",
    "    if i<0:\n",
    "        return head\n",
    "    \n",
    "    if head is None:\n",
    "        return None\n",
    "    \n",
    "    small_head = insert_i(head.next,i-1,data)\n",
    "    head.next = small_head\n",
    "    return head\n",
    "\n",
    "def insertNode():\n",
    "    li = [int(ele) for ele in input().split()]\n",
    "    head = None\n",
    "    tail = None\n",
    "    for ele in li:\n",
    "        if ele is -1:\n",
    "            break\n",
    "        newNode = Node(ele)\n",
    "        if head is None:\n",
    "            head = newNode\n",
    "            tail = newNode\n",
    "        else:\n",
    "            tail.next = newNode\n",
    "            tail = tail.next\n",
    "    return head\n",
    "\n",
    "def printLL(head):\n",
    "    while head is not None:\n",
    "        print(str(head.data)+'->',end='')\n",
    "        head = head.next\n",
    "    print('None')\n",
    "\n",
    "head = insertNode()\n",
    "head = insert_i(head,3,8)\n",
    "printLL(head)"
   ]
  },
  {
   "cell_type": "markdown",
   "metadata": {},
   "source": [
    "# Delete from ith"
   ]
  },
  {
   "cell_type": "code",
   "execution_count": 13,
   "metadata": {},
   "outputs": [
    {
     "name": "stdout",
     "output_type": "stream",
     "text": [
      "1 2 3 4 5 6 -1\n",
      "1->2->3->5->6->None\n",
      "2->3->5->6->None\n"
     ]
    }
   ],
   "source": [
    "class Node:\n",
    "    def __init__(self,data):\n",
    "        self.data = data\n",
    "        self.next = None\n",
    "\n",
    "def length(head):\n",
    "    count = 0\n",
    "    while head is not None:\n",
    "        count+=1\n",
    "        head = head.next\n",
    "    return count        \n",
    "        \n",
    "def insertLL():\n",
    "    li = [int(ele) for ele in input().split()]\n",
    "    head = None\n",
    "    tail = None\n",
    "    for ele in li:\n",
    "        if ele is -1:\n",
    "            break\n",
    "        new_node = Node(ele)\n",
    "        if head is None:\n",
    "            head = new_node\n",
    "            tail = new_node\n",
    "        else:\n",
    "            tail.next = new_node\n",
    "            tail = tail.next\n",
    "    return head\n",
    "\n",
    "def del_i(head,i):\n",
    "    if i<0 or i>length(head):\n",
    "        return head\n",
    "    prev = None\n",
    "    curr = head\n",
    "    count = 0\n",
    "    while count<i:\n",
    "        prev = curr\n",
    "        curr = curr.next\n",
    "        count += 1\n",
    "    if prev is not None:\n",
    "        prev.next = curr.next\n",
    "    else:\n",
    "        head = curr.next\n",
    "        curr.next = None\n",
    "    return head\n",
    "\n",
    "def printLL(head):\n",
    "    while head is not None:\n",
    "        print(str(head.data)+'->',end='')\n",
    "        head = head.next\n",
    "    print('None')\n",
    "\n",
    "head = insertLL()\n",
    "head = del_i(head,3)\n",
    "printLL(head)\n",
    "head = del_i(head,0)\n",
    "printLL(head)"
   ]
  },
  {
   "cell_type": "markdown",
   "metadata": {},
   "source": [
    "# Delete recursievly"
   ]
  },
  {
   "cell_type": "code",
   "execution_count": 17,
   "metadata": {},
   "outputs": [
    {
     "name": "stdout",
     "output_type": "stream",
     "text": [
      "1 2 3 4 5 6 -1\n",
      "1->2->3->5->6->None\n"
     ]
    }
   ],
   "source": [
    "class Node:\n",
    "    def __init__(self,data):\n",
    "        self.data = data\n",
    "        self.next = None\n",
    "        \n",
    "def insertLL():\n",
    "    li = [int(ele) for ele in input().split()]\n",
    "    head = None\n",
    "    tail = None\n",
    "    for ele in li:\n",
    "        if ele is -1:\n",
    "            break\n",
    "        new_node = Node(ele)\n",
    "        if head is None:\n",
    "            head = new_node\n",
    "            tail = new_node\n",
    "        else:\n",
    "            tail.next = new_node\n",
    "            tail = tail.next\n",
    "    return head\n",
    "\n",
    "def delete_rec(head,i):\n",
    "    if i == 0:\n",
    "        head = head.next\n",
    "        return head\n",
    "    if head.next is None:\n",
    "        return head\n",
    "    \n",
    "    small_head = delete_rec(head.next,i-1)\n",
    "    head.next = small_head\n",
    "    return head\n",
    "\n",
    "def printLL(head):\n",
    "    while head is not None:\n",
    "        print(str(head.data)+'->',end='')\n",
    "        head = head.next\n",
    "    print('None')\n",
    "\n",
    "head = insertLL()\n",
    "head = delete_rec(head,3)\n",
    "printLL(head)"
   ]
  },
  {
   "cell_type": "code",
   "execution_count": null,
   "metadata": {},
   "outputs": [],
   "source": [
    "class Node:\n",
    "    def __init__(self, data):\n",
    "        self.data = data\n",
    "        self.next = None\n",
    "\n",
    "def delete(head, i): \n",
    "    \n",
    "    if i==0 and head is not None:\n",
    "        return head.next\n",
    "    curr=head\n",
    "    prev=None\n",
    "    count=0\n",
    "    while count<i:\n",
    "        prev=curr\n",
    "        curr=curr.next\n",
    "        count+=1\n",
    "    if curr is not None:\n",
    "        prev.next=curr.next\n",
    "    return head\n",
    "\n",
    "def ll(arr):\n",
    "    if len(arr)==0:\n",
    "        return None\n",
    "    head = Node(arr[0])\n",
    "    last = head\n",
    "    for data in arr[1:]:\n",
    "        last.next = Node(data)\n",
    "        last = last.next\n",
    "    return head\n",
    "\n",
    "def printll(head):\n",
    "    while head:\n",
    "        print(head.data, end=' ')\n",
    "        head = head.next\n",
    "    print()\n",
    "\n",
    "# Main\n",
    "# Read the link list elements including -1\n",
    "arr=list(int(i) for i in input().strip().split(' '))\n",
    "# Create a Linked list after removing -1 from list\n",
    "l = ll(arr[:-1])\n",
    "i=int(input())\n",
    "l = delete(l, i)\n",
    "printll(l)\n"
   ]
  },
  {
   "cell_type": "markdown",
   "metadata": {},
   "source": [
    "# find node"
   ]
  },
  {
   "cell_type": "code",
   "execution_count": 18,
   "metadata": {},
   "outputs": [
    {
     "name": "stdout",
     "output_type": "stream",
     "text": [
      "1 2 3 4 5 6 -1\n",
      "4\n"
     ]
    }
   ],
   "source": [
    "class Node:\n",
    "    def __init__(self,data):\n",
    "        self.data = data\n",
    "        self.next = None\n",
    "        \n",
    "def insertLL():\n",
    "    li = [int(ele) for ele in input().split()]\n",
    "    head = None\n",
    "    tail = None\n",
    "    for ele in li:\n",
    "        if ele is -1:\n",
    "            break\n",
    "        new_node = Node(ele)\n",
    "        if head is None:\n",
    "            head = new_node\n",
    "            tail = new_node\n",
    "        else:\n",
    "            tail.next = new_node\n",
    "            tail = tail.next\n",
    "    return head\n",
    "\n",
    "def find_node(head,n):\n",
    "    count=0\n",
    "    while head is not None:\n",
    "        if head.data == n:\n",
    "            return count\n",
    "        else:\n",
    "            count+=1\n",
    "            head=head.next\n",
    "    return count\n",
    "\n",
    "head=insertLL()\n",
    "result=find_node(head,5)\n",
    "print(result)"
   ]
  },
  {
   "cell_type": "markdown",
   "metadata": {},
   "source": [
    "# Append to last"
   ]
  },
  {
   "cell_type": "code",
   "execution_count": 2,
   "metadata": {},
   "outputs": [
    {
     "name": "stderr",
     "output_type": "stream",
     "text": [
      "<>:34: SyntaxWarning: \"is\" with a literal. Did you mean \"==\"?\n",
      "<>:34: SyntaxWarning: \"is\" with a literal. Did you mean \"==\"?\n",
      "<ipython-input-2-0eb91665b336>:34: SyntaxWarning: \"is\" with a literal. Did you mean \"==\"?\n",
      "  if ele is -1:\n"
     ]
    },
    {
     "name": "stdout",
     "output_type": "stream",
     "text": [
      "1 2 3 4 5 6 -1\n",
      "6\n",
      "1\n",
      "1\n",
      "1\n",
      "4->5->6->1->2->3->None\n"
     ]
    }
   ],
   "source": [
    "class Node:\n",
    "    def __init__(self,data):\n",
    "        self.data = data\n",
    "        self.next = None\n",
    "\n",
    "def append_n(head,k):\n",
    "    tail = head\n",
    "    count = 1\n",
    "    while tail.next:\n",
    "        count += 1\n",
    "        tail = tail.next\n",
    "\n",
    "    prev_head = None\n",
    "    temp = head\n",
    "    for i in range(count-k):\n",
    "        prev_head = head\n",
    "        head = head.next\n",
    "    prev_head.next = None\n",
    "    tail.next = temp\n",
    "    return head\n",
    "\n",
    "def printLL(head):\n",
    "    while head is not None:\n",
    "        print(str(head.data)+'->',end='')\n",
    "        head = head.next\n",
    "    print('None')\n",
    "    \n",
    "def insertLL():\n",
    "    li = [int(ele) for ele in input().split()]\n",
    "    head = None\n",
    "    tail = None\n",
    "    for ele in li:\n",
    "        if ele is -1:\n",
    "            break\n",
    "        new_node = Node(ele)\n",
    "        if head is None:\n",
    "            head = new_node\n",
    "            tail = new_node\n",
    "        else:\n",
    "            tail.next = new_node\n",
    "            tail = tail.next\n",
    "    return head\n",
    "\n",
    "head = insertLL()\n",
    "head = append_n(head,3)\n",
    "printLL(head)"
   ]
  },
  {
   "cell_type": "markdown",
   "metadata": {},
   "source": [
    "# LL part 2"
   ]
  },
  {
   "cell_type": "markdown",
   "metadata": {},
   "source": [
    "## Reverse LL (recursively)"
   ]
  },
  {
   "cell_type": "code",
   "execution_count": 6,
   "metadata": {},
   "outputs": [
    {
     "name": "stdout",
     "output_type": "stream",
     "text": [
      "1 2 3 4 5 6 -1\n",
      "6->5->4->3->2->1->None\n"
     ]
    }
   ],
   "source": [
    "class Node:\n",
    "    def __init__(self,data):\n",
    "        self.data = data\n",
    "        self.next = None\n",
    "        \n",
    "def inputLL():\n",
    "    li = [int(ele) for ele in input().split()]\n",
    "    head = None\n",
    "    tail = None\n",
    "    for cur_data in li:\n",
    "        if cur_data == -1:\n",
    "            break\n",
    "        new_node = Node(cur_data)\n",
    "        if head is None:\n",
    "            head = new_node\n",
    "            tail = new_node\n",
    "        else:\n",
    "            tail.next = new_node\n",
    "            tail = tail.next\n",
    "    return head\n",
    "\n",
    "def printLL(head):\n",
    "    while head is not None:\n",
    "        print(str(head.data)+'->',end='')\n",
    "        head = head.next\n",
    "    print('None')\n",
    "    \n",
    "def reverse_r(head):\n",
    "    if head is None or head.next is None:\n",
    "        return head\n",
    "    \n",
    "    small_head = reverse_r(head.next)\n",
    "    tail = small_head\n",
    "    while tail.next:\n",
    "        tail = tail.next\n",
    "    tail.next = head\n",
    "    head.next = None\n",
    "    return small_head\n",
    "\n",
    "from sys import setrecursionlimit\n",
    "setrecursionlimit(11000)\n",
    "head = inputLL()\n",
    "head_1 = reverse_r(head)\n",
    "printLL(head_1)\n",
    "\n",
    "\n",
    "\n",
    "# if head is None or head.next is None:\n",
    "#         return head,head\n",
    "#\n",
    "#     smallhead,tail = reverse(head.next)   here we don't need to traverse for head\n",
    "\n",
    "#     tail.next = head\n",
    "#     head.next = None\n",
    "#     return smallhead,head"
   ]
  },
  {
   "cell_type": "markdown",
   "metadata": {},
   "source": [
    "### Part 2"
   ]
  },
  {
   "cell_type": "code",
   "execution_count": 10,
   "metadata": {},
   "outputs": [
    {
     "name": "stdout",
     "output_type": "stream",
     "text": [
      "1 2 3 4 5 6 -1\n",
      "6->5->4->3->2->1->None\n"
     ]
    }
   ],
   "source": [
    "class Node:\n",
    "    def __init__(self,data):\n",
    "        self.data = data\n",
    "        self.next = None\n",
    "        \n",
    "def inputLL():\n",
    "    li = [int(ele) for ele in input().split()]\n",
    "    head = None\n",
    "    tail = None\n",
    "    for cur_data in li:\n",
    "        if cur_data == -1:\n",
    "            break\n",
    "        new_node = Node(cur_data)\n",
    "        if head is None:\n",
    "            head = new_node\n",
    "            tail = new_node\n",
    "        else:\n",
    "            tail.next = new_node\n",
    "            tail = tail.next\n",
    "    return head\n",
    "\n",
    "def printLL(head):\n",
    "    while head is not None:\n",
    "        print(str(head.data)+'->',end='')\n",
    "        head = head.next\n",
    "    print('None')\n",
    "    \n",
    "def reverse_r(head):\n",
    "    if head is None or head.next is None:\n",
    "        return head,head\n",
    "\n",
    "    smallhead,tail = reverse_r(head.next)\n",
    "    tail.next = head\n",
    "    head.next = None\n",
    "    return smallhead,head\n",
    "\n",
    "from sys import setrecursionlimit\n",
    "setrecursionlimit(11000)\n",
    "head = inputLL()\n",
    "head,tail = reverse_r(head)\n",
    "printLL(head_1)"
   ]
  },
  {
   "cell_type": "markdown",
   "metadata": {},
   "source": [
    "### Part 3 important of all"
   ]
  },
  {
   "cell_type": "code",
   "execution_count": 11,
   "metadata": {},
   "outputs": [
    {
     "name": "stdout",
     "output_type": "stream",
     "text": [
      "1 2 3 4 5 6 -1\n",
      "6->5->4->3->2->1->None\n"
     ]
    }
   ],
   "source": [
    "class Node:\n",
    "    def __init__(self,data):\n",
    "        self.data = data\n",
    "        self.next = None\n",
    "        \n",
    "def inputLL():\n",
    "    li = [int(ele) for ele in input().split()]\n",
    "    head = None\n",
    "    tail = None\n",
    "    for cur_data in li:\n",
    "        if cur_data == -1:\n",
    "            break\n",
    "        new_node = Node(cur_data)\n",
    "        if head is None:\n",
    "            head = new_node\n",
    "            tail = new_node\n",
    "        else:\n",
    "            tail.next = new_node\n",
    "            tail = tail.next\n",
    "    return head\n",
    "\n",
    "def printLL(head):\n",
    "    while head is not None:\n",
    "        print(str(head.data)+'->',end='')\n",
    "        head = head.next\n",
    "    print('None')\n",
    "    \n",
    "def reverse_r(head):\n",
    "    if head is None or head.next is None:\n",
    "        return head\n",
    "    small_head = reverse_r(head.next)\n",
    "    tail = head.next\n",
    "    tail.next = head\n",
    "    head.next = None\n",
    "    return small_head\n",
    "\n",
    "from sys import setrecursionlimit\n",
    "setrecursionlimit(11000)\n",
    "head = inputLL()\n",
    "head = reverse_r(head)\n",
    "printLL(head)"
   ]
  },
  {
   "cell_type": "markdown",
   "metadata": {},
   "source": [
    "### iteratively"
   ]
  },
  {
   "cell_type": "code",
   "execution_count": 12,
   "metadata": {},
   "outputs": [
    {
     "name": "stdout",
     "output_type": "stream",
     "text": [
      "1 2 3 4 5 6 -1\n",
      "6->5->4->3->2->1->None\n"
     ]
    }
   ],
   "source": [
    "class Node:\n",
    "    def __init__(self,data):\n",
    "        self.data = data\n",
    "        self.next = None\n",
    "        \n",
    "def inputLL():\n",
    "    li = [int(ele) for ele in input().split()]\n",
    "    head = None\n",
    "    tail = None\n",
    "    for cur_data in li:\n",
    "        if cur_data == -1:\n",
    "            break\n",
    "        new_node = Node(cur_data)\n",
    "        if head is None:\n",
    "            head = new_node\n",
    "            tail = new_node\n",
    "        else:\n",
    "            tail.next = new_node\n",
    "            tail = tail.next\n",
    "    return head\n",
    "\n",
    "def printLL(head):\n",
    "    while head is not None:\n",
    "        print(str(head.data)+'->',end='')\n",
    "        head = head.next\n",
    "    print('None')\n",
    "    \n",
    "def reverse_i(head):\n",
    "    prev = None\n",
    "    curr = head\n",
    "    while curr is not None:\n",
    "        next = curr.next\n",
    "        curr.next = prev\n",
    "        prev = curr\n",
    "        curr = next\n",
    "    head = prev\n",
    "    return head\n",
    "\n",
    "head = inputLL()\n",
    "head = reverse_i(head)\n",
    "printLL(head)"
   ]
  },
  {
   "cell_type": "markdown",
   "metadata": {},
   "source": [
    "## Mid point of LL"
   ]
  },
  {
   "cell_type": "code",
   "execution_count": 17,
   "metadata": {},
   "outputs": [
    {
     "name": "stdout",
     "output_type": "stream",
     "text": [
      "1 2 3 4 5 6 -1\n",
      "3\n"
     ]
    }
   ],
   "source": [
    "class Node:\n",
    "    def __init__(self,data):\n",
    "        self.data = data\n",
    "        self.next = None\n",
    "        \n",
    "def inputLL():\n",
    "    li = [int(ele) for ele in input().split()]\n",
    "    head = None\n",
    "    tail = None\n",
    "    for cur_data in li:\n",
    "        if cur_data == -1:\n",
    "            break\n",
    "        new_node = Node(cur_data)\n",
    "        if head is None:\n",
    "            head = new_node\n",
    "            tail = new_node\n",
    "        else:\n",
    "            tail.next = new_node\n",
    "            tail = tail.next\n",
    "    return head\n",
    "\n",
    "def mid_point(head):\n",
    "    slow = head\n",
    "    fast = head\n",
    "    while fast.next is not None and fast.next.next is not None:\n",
    "        slow = slow.next\n",
    "        fast = fast.next.next\n",
    "    return slow.data\n",
    "\n",
    "head = inputLL()\n",
    "node = mid_point(head)\n",
    "print(node)"
   ]
  },
  {
   "cell_type": "markdown",
   "metadata": {},
   "source": [
    "## Merge two sorted LL"
   ]
  },
  {
   "cell_type": "code",
   "execution_count": 31,
   "metadata": {},
   "outputs": [
    {
     "name": "stdout",
     "output_type": "stream",
     "text": [
      "1 5 9 -1\n",
      "2 3 8 -1\n",
      "1 2 3 5 8 9 "
     ]
    }
   ],
   "source": [
    "class Node:\n",
    "    def __init__(self,data):\n",
    "        self.data = data\n",
    "        self.next = None\n",
    "        \n",
    "def inputLL():\n",
    "    li = [int(ele) for ele in input().split()]\n",
    "    head = None\n",
    "    tail = None\n",
    "    for cur_data in li:\n",
    "        if cur_data == -1:\n",
    "            break\n",
    "        new_node = Node(cur_data)\n",
    "        if head is None:\n",
    "            head = new_node\n",
    "            tail = new_node\n",
    "        else:\n",
    "            tail.next = new_node\n",
    "            tail = tail.next\n",
    "    return head\n",
    "\n",
    "def printLL(head):\n",
    "    while head is not None:\n",
    "        print(head.data,end=' ')\n",
    "        head = head.next\n",
    "        \n",
    "def merge_2(head1,head2):\n",
    "    fh = None\n",
    "    ft = None\n",
    "    if head1.data<=head2.data:\n",
    "        fh = head1\n",
    "        ft = head1\n",
    "        head1 = head1.next\n",
    "    else:\n",
    "        fh = head2\n",
    "        ft = head2\n",
    "        head2 = head2.next\n",
    "    while head1 != None and head2 != None:\n",
    "        if head1.data<=head2.data:\n",
    "            ft.next = head1\n",
    "            ft = ft.next\n",
    "            head1 = head1.next\n",
    "        else:\n",
    "            ft.next = head2\n",
    "            ft = ft.next\n",
    "            head2 = head2.next\n",
    "    if head1 is not None:\n",
    "        ft.next = head1\n",
    "    else:\n",
    "        ft.next = head2\n",
    "    return fh\n",
    "        \n",
    "head1 = inputLL()\n",
    "head2 = inputLL()\n",
    "head = merge_2(head1,head2)\n",
    "printLL(head)"
   ]
  },
  {
   "cell_type": "markdown",
   "metadata": {},
   "source": [
    "## Merge Sort"
   ]
  },
  {
   "cell_type": "code",
   "execution_count": 34,
   "metadata": {},
   "outputs": [
    {
     "name": "stdout",
     "output_type": "stream",
     "text": [
      "8 6 5 7 9 -1\n",
      "5 6 7 8 9 \n"
     ]
    }
   ],
   "source": [
    "class Node:\n",
    "    def __init__(self, data):\n",
    "        self.data = data\n",
    "        self.next = None\n",
    "        \n",
    "def merge(head1,head2):\n",
    "    fh = None\n",
    "    ft = None\n",
    "    if head1.data<=head2.data:\n",
    "        fh = head1\n",
    "        ft = head1\n",
    "        head1 = head1.next\n",
    "    else:\n",
    "        fh = head2\n",
    "        ft = head2\n",
    "        head2 = head2.next\n",
    "    while head1 != None and head2 != None:\n",
    "        if head1.data<=head2.data:\n",
    "            ft.next = head1\n",
    "            ft = ft.next\n",
    "            head1 = head1.next\n",
    "        else:\n",
    "            ft.next = head2\n",
    "            ft = ft.next\n",
    "            head2 = head2.next\n",
    "    if head1 is not None:\n",
    "        ft.next = head1\n",
    "    else:\n",
    "        ft.next = head2\n",
    "    return fh\n",
    "\n",
    "def mid_point(head):\n",
    "    slow = head\n",
    "    fast = head\n",
    "    while fast.next is not None and fast.next.next is not None:\n",
    "        slow = slow.next\n",
    "        fast = fast.next.next\n",
    "    return slow\n",
    "\n",
    "def mergeSort(head):\n",
    "    #  Sort a given linked list using Merge Sort.\n",
    "    #############################\n",
    "    # PLEASE ADD YOUR CODE HERE #\n",
    "    #############################\n",
    "    if head is None or head.next is None:\n",
    "        return head\n",
    "    \n",
    "    middle = mid_point(head)\n",
    "    head1 = middle.next\n",
    "    middle.next = None\n",
    "    \n",
    "    left = mergeSort(head)\n",
    "    right = mergeSort(head1)\n",
    "    fh = merge(left,right)\n",
    "    return fh\n",
    "\n",
    "\n",
    "def ll(arr):\n",
    "    if len(arr)==0:\n",
    "        return None\n",
    "    head = Node(arr[0])\n",
    "    last = head\n",
    "    for data in arr[1:]:\n",
    "        last.next = Node(data)\n",
    "        last = last.next\n",
    "    return head\n",
    "\n",
    "def printll(head):\n",
    "    while head:\n",
    "        print(head.data, end=' ')\n",
    "        head = head.next\n",
    "    print()\n",
    "\n",
    "# Main\n",
    "# Read the link list elements including -1\n",
    "arr=list(int(i) for i in input().strip().split(' '))\n",
    "# Create a Linked list after removing -1 from list\n",
    "l = ll(arr[:-1])\n",
    "l = mergeSort(l)\n",
    "printll(l)\n"
   ]
  },
  {
   "cell_type": "code",
   "execution_count": null,
   "metadata": {},
   "outputs": [],
   "source": [
    "1. Singly LL\n",
    "2. Doubly LL\n",
    "3. Singly circular\n",
    "4. Doubly circular\n",
    "add a node and delete a node in every 4 types\n",
    "Assingment"
   ]
  },
  {
   "cell_type": "markdown",
   "metadata": {},
   "source": [
    "## Find Node"
   ]
  },
  {
   "cell_type": "code",
   "execution_count": 35,
   "metadata": {},
   "outputs": [
    {
     "name": "stdout",
     "output_type": "stream",
     "text": [
      "2 4 5 6 9 -1\n",
      "9\n",
      "4\n"
     ]
    }
   ],
   "source": [
    "class Node:\n",
    "    def __init__(self, data):\n",
    "        self.data = data\n",
    "        self.next = None\n",
    "\n",
    "def linearSearchRecursive(head, n):\n",
    "    #  Given a linked list and an integer n you need to find and return index\n",
    "    #  where n is present in the LL. Do this iteratively. Return -1 if n is not\n",
    "    #  present in the LL. Indexing of nodes starts from 0. \n",
    "    #############################\n",
    "    # PLEASE ADD YOUR CODE HERE #\n",
    "    #############################\n",
    "    if head == None:\n",
    "        return -1\n",
    "    if head.data == n:\n",
    "        return 0\n",
    "    head1 = linearSearchRecursive(head.next, n)\n",
    "    if head1 == -1:\n",
    "        return -1\n",
    "    return head1+1\n",
    "\n",
    "def ll(arr):\n",
    "    if len(arr)==0:\n",
    "        return None\n",
    "    head = Node(arr[0])\n",
    "    last = head\n",
    "    for data in arr[1:]:\n",
    "        last.next = Node(data)\n",
    "        last = last.next\n",
    "    return head\n",
    "\n",
    "# Main\n",
    "from sys import setrecursionlimit\n",
    "setrecursionlimit(11000)\n",
    "# Read the link list elements including -1\n",
    "arr=list(int(i) for i in input().strip().split(' '))\n",
    "# Create a Linked list after removing -1 from list\n",
    "l = ll(arr[:-1])\n",
    "data=int(input())\n",
    "index = linearSearchRecursive(l, data)\n",
    "print(index)\n"
   ]
  },
  {
   "cell_type": "markdown",
   "metadata": {},
   "source": [
    "### Even after Odd"
   ]
  },
  {
   "cell_type": "code",
   "execution_count": 45,
   "metadata": {},
   "outputs": [
    {
     "name": "stdout",
     "output_type": "stream",
     "text": [
      "1852 1566 735 141 259 1563 1532 619 1670 572 -1\n",
      "735 141 259 1563 619 1852 1566 1532 1670 572 \n"
     ]
    }
   ],
   "source": [
    "# Problem ID 331 even after odd in a LL\n",
    "# class Node:\n",
    "#     def __init__(self, data):\n",
    "#         self.data = data\n",
    "#         self.next = None\n",
    "\n",
    "# def arrange_LinkedList(head):\n",
    "#     even = None\n",
    "#     odd = None\n",
    "#     while head:\n",
    "#         next = head.next\n",
    "#         if head.data%2 == 0:\n",
    "#             if even == None:\n",
    "#                 even = evenlast = head\n",
    "#             else:\n",
    "#                 evenlast.next = head\n",
    "#                 evenlast = head\n",
    "#         else:\n",
    "#             if odd == None:\n",
    "#                 odd = oddlast = head\n",
    "#             else:\n",
    "#                 oddlast.next = head\n",
    "#                 oddlast = head\n",
    "#         head.next = None\n",
    "#         head = next\n",
    "#     if odd == None:\n",
    "#         return even\n",
    "#     oddlast.next = even\n",
    "#     return odd\n",
    "#     pass\n",
    "\n",
    "\n",
    "\n",
    "# def ll(arr):\n",
    "#     if len(arr)==0:\n",
    "#         return None\n",
    "#     head = Node(arr[0])\n",
    "#     last = head\n",
    "#     for data in arr[1:]:\n",
    "#         last.next = Node(data)\n",
    "#         last = last.next\n",
    "#     return head\n",
    "\n",
    "# def printll(head):\n",
    "#     while head:\n",
    "#         print(head.data, end=' ')\n",
    "#         head = head.next\n",
    "#     print()\n",
    "\n",
    "# # Main\n",
    "# # Read the link list elements including -1\n",
    "# arr=list(int(i) for i in input().strip().split(' '))\n",
    "# # Create a Linked list after removing -1 from list\n",
    "# l = ll(arr[:-1])\n",
    "# l = arrange_LinkedList(l)\n",
    "# printll(l)\n",
    "\n",
    "\n",
    "\n",
    "\n",
    "\n",
    "class Node:\n",
    "    def __init__(self, data):\n",
    "        self.data = data\n",
    "        self.next = None\n",
    "\n",
    "def takeinput():\n",
    "    input_li = [int(ele) for ele in input().split()]\n",
    "    head = None\n",
    "    tail = None\n",
    "    for ele in input_li:\n",
    "        if ele is -1:\n",
    "            break\n",
    "        new_node = Node(ele)\n",
    "        if head is None:\n",
    "            head = new_node\n",
    "            tail = new_node\n",
    "        else:\n",
    "            tail.next = new_node\n",
    "            tail = new_node\n",
    "    return head\n",
    "\n",
    "def odd_even(head):\n",
    "    oh,eh = None,None\n",
    "    while head:\n",
    "        next = head.next\n",
    "        if head.data%2==0:\n",
    "            if eh == None:\n",
    "                eh = head\n",
    "                et = head\n",
    "            else:\n",
    "                et.next = head\n",
    "                et = head\n",
    "        else:\n",
    "            if oh == None:\n",
    "                oh = head\n",
    "                ot = head\n",
    "            else:\n",
    "                ot.next = head\n",
    "                ot = head\n",
    "        head.next = None\n",
    "        head = next\n",
    "    if oh == None:\n",
    "        return eh\n",
    "    ot.next = eh\n",
    "    return oh\n",
    "\n",
    "def printLL(head):\n",
    "    while head is not None:\n",
    "        print(str(head.data)+'->',end='')\n",
    "        head = head.next\n",
    "    print('None')\n",
    "\n",
    "head = takeinput()\n",
    "head = odd_even(head)\n",
    "printLL(head)"
   ]
  },
  {
   "cell_type": "markdown",
   "metadata": {},
   "source": [
    "### Delete every N node"
   ]
  },
  {
   "cell_type": "code",
   "execution_count": 4,
   "metadata": {},
   "outputs": [
    {
     "name": "stdout",
     "output_type": "stream",
     "text": [
      "1 2 3 4 5 6 7 8 9 -1\n",
      "2\n",
      "2\n",
      "1 2 5 6 9 \n"
     ]
    }
   ],
   "source": [
    "class Node:\n",
    "    def __init__(self, data):\n",
    "        self.data = data\n",
    "        self.next = None\n",
    "\n",
    "def skipMdeleteN(head, M, N):\n",
    "    #  Given a linked list and two integers M and N. Traverse the linked list\n",
    "    #  such that you retain M nodes then delete next N nodes, continue the same\n",
    "    #  until end of the linked list. That is, in the given linked list you need\n",
    "    #  to delete N nodes after every M nodes.\n",
    "    #############################\n",
    "    # PLEASE ADD YOUR CODE HERE #\n",
    "    #############################\n",
    "    if M==0:\n",
    "        return None\n",
    "    if head == None or N<=0 or M<0:\n",
    "        return head\n",
    "    curr = head\n",
    "    while curr:\n",
    "        for i in range(0,M-1):\n",
    "            if curr == None or curr.next == None:\n",
    "                return head\n",
    "            curr = curr.next\n",
    "        prev = curr\n",
    "        curr = curr.next\n",
    "        for j in range(0,N):\n",
    "            if curr == None:\n",
    "                break\n",
    "            next = curr.next\n",
    "            curr = next\n",
    "        prev.next = curr\n",
    "    return head\n",
    "\n",
    "def ll(arr):\n",
    "    if len(arr)==0:\n",
    "        return None\n",
    "    head = Node(arr[0])\n",
    "    last = head\n",
    "    for data in arr[1:]:\n",
    "        last.next = Node(data)\n",
    "        last = last.next\n",
    "    return head\n",
    "\n",
    "def printll(head):\n",
    "    while head:\n",
    "        print(head.data, end=' ')\n",
    "        head = head.next\n",
    "    print()\n",
    "\n",
    "# Main\n",
    "# Read the link list elements including -1\n",
    "arr=list(int(i) for i in input().strip().split(' '))\n",
    "# Create a Linked list after removing -1 from list\n",
    "l = ll(arr[:-1])\n",
    "m=int(input())\n",
    "n=int(input())\n",
    "l = skipMdeleteN(l, m, n)\n",
    "printll(l) "
   ]
  },
  {
   "cell_type": "markdown",
   "metadata": {},
   "source": [
    "### Swap 2 nodes"
   ]
  },
  {
   "cell_type": "code",
   "execution_count": 53,
   "metadata": {},
   "outputs": [
    {
     "name": "stdout",
     "output_type": "stream",
     "text": [
      "3 4 5 2 6 1 9 -1\n",
      "3 4\n",
      "3 4 5 6 2 1 9 \n"
     ]
    }
   ],
   "source": [
    "class Node:\n",
    "    def __init__(self, data):\n",
    "        self.data = data\n",
    "        self.next = None\n",
    "\n",
    "def swap_nodes(head, i, j):\n",
    "    #############################\n",
    "    # PLEASE ADD YOUR CODE HERE #\n",
    "    #############################\n",
    "    temp_1 = head\n",
    "    temp_2 = head\n",
    "    for i in range(0,i-1):\n",
    "        temp_1 = temp_1.next\n",
    "    x = temp_1.next\n",
    "    for j in range(0,j-1):\n",
    "        temp_2 = temp_2.next\n",
    "    y = temp_2.next\n",
    "    temp_1.next = y\n",
    "    temp_2.next = x\n",
    "    a = x.next\n",
    "    b = y.next\n",
    "    x.next = b\n",
    "    y.next = a\n",
    "    return head\n",
    "    pass\n",
    "\n",
    "def ll(arr):\n",
    "    if len(arr)==0:\n",
    "        return None\n",
    "    head = Node(arr[0])\n",
    "    last = head\n",
    "    for data in arr[1:]:\n",
    "        last.next = Node(data)\n",
    "        last = last.next\n",
    "    return head\n",
    "\n",
    "def printll(head):\n",
    "    while head:\n",
    "        print(head.data, end=' ')\n",
    "        head = head.next\n",
    "    print()\n",
    "\n",
    "# Main\n",
    "# Read the link list elements including -1\n",
    "arr=list(int(i) for i in input().strip().split(' '))\n",
    "# Create a Linked list after removing -1 from list\n",
    "l = ll(arr[:-1])\n",
    "i, j=list(int(i) for i in input().strip().split(' '))\n",
    "l = swap_nodes(l, i, j)\n",
    "printll(l)\n"
   ]
  }
 ],
 "metadata": {
  "kernelspec": {
   "display_name": "Python 3",
   "language": "python",
   "name": "python3"
  },
  "language_info": {
   "codemirror_mode": {
    "name": "ipython",
    "version": 3
   },
   "file_extension": ".py",
   "mimetype": "text/x-python",
   "name": "python",
   "nbconvert_exporter": "python",
   "pygments_lexer": "ipython3",
   "version": "3.8.2"
  }
 },
 "nbformat": 4,
 "nbformat_minor": 2
}
