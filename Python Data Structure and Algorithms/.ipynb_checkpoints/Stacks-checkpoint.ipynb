{
 "cells": [
  {
   "cell_type": "markdown",
   "metadata": {},
   "source": [
    "### Stack using array"
   ]
  },
  {
   "cell_type": "code",
   "execution_count": 10,
   "metadata": {},
   "outputs": [
    {
     "name": "stdout",
     "output_type": "stream",
     "text": [
      "30\n",
      "20\n",
      "10\n",
      "Hey! Stack is empty!!\n",
      "Hey! Stack is empty!!\n"
     ]
    }
   ],
   "source": [
    "from StackUsingArray import Stack\n",
    "\n",
    "\n",
    "s = Stack()\n",
    "s.push(10)\n",
    "s.push(20)\n",
    "s.push(30)\n",
    "\n",
    "while s.isEmpty() is False:\n",
    "    print(s.pop())\n",
    "s.top()\n",
    "s.top()"
   ]
  },
  {
   "cell_type": "markdown",
   "metadata": {},
   "source": [
    "### Stack using LL"
   ]
  },
  {
   "cell_type": "code",
   "execution_count": 12,
   "metadata": {},
   "outputs": [
    {
     "name": "stdout",
     "output_type": "stream",
     "text": [
      "1 3 1 4 1 63 1 21 1 9 2 3 1 7 3 -1\n",
      "9\n",
      "21\n",
      "7\n"
     ]
    }
   ],
   "source": [
    "\n",
    " ###Following Node class us already created internally. You can directly use that.\n",
    "class Node:\n",
    "    def __init__(self,data):\n",
    "        self.data = data\n",
    "        self.next = None\n",
    "        \n",
    "class StackUsingLL:\n",
    "    ### Implement all these functions here\n",
    "    \n",
    "    def __init__(self):\n",
    "        self.__head = None\n",
    "        self.__size = 0\n",
    "\n",
    "    def push(self,data):\n",
    "        new_node = Node(data)\n",
    "        if self.__head is None:\n",
    "            self.__head = new_node\n",
    "        else:\n",
    "            new_node.next = self.__head\n",
    "            self.__head = new_node\n",
    "        self.__size+=1\n",
    "        \n",
    "    def pop(self):\n",
    "        if self.isEmpty is True:\n",
    "            return 0\n",
    "        else:\n",
    "            temp = self.__head.data\n",
    "            self.__head = self.__head.next\n",
    "            self.__size-=1\n",
    "            return temp\n",
    "    \n",
    "    # Return 0 if stack is empty. Don't display any other message\n",
    "    def top(self):\n",
    "        if self.isEmpty is True:\n",
    "            return 0\n",
    "        return self.__head.data\n",
    "    # Return 0 if stack is empty. Don't display any other message\n",
    "    def isEmpty(self):\n",
    "        return self.__size==0\n",
    "        \n",
    "    def getSize(self):\n",
    "        return self.__size\n",
    "        \n",
    "    \n",
    "s = StackUsingLL()\n",
    "li = [int(ele) for ele in input().split()]\n",
    "i=0\n",
    "while i<len(li):\n",
    "    choice = li[i]\n",
    "    if choice == -1:\n",
    "        break\n",
    "    elif choice == 1:\n",
    "        s.push(li[i+1])\n",
    "        i+=1\n",
    "    elif choice == 2:\n",
    "        ans = s.pop()\n",
    "        if ans!=0:\n",
    "            print(ans)\n",
    "        else:\n",
    "            print(-1)\n",
    "    elif choice == 3:\n",
    "        ans = s.top()\n",
    "        if ans!=0:\n",
    "            print(ans)\n",
    "        else:\n",
    "            print(-1)\n",
    "    elif choice == 4:\n",
    "        print(s.getSize())\n",
    "    elif choice == 5:\n",
    "        if(s.isEmpty()):\n",
    "            print('true')\n",
    "        else:\n",
    "            print('false')\n",
    "    i+=1"
   ]
  },
  {
   "cell_type": "markdown",
   "metadata": {},
   "source": [
    "## inbuilt stacks and queues  very important"
   ]
  },
  {
   "cell_type": "code",
   "execution_count": 13,
   "metadata": {},
   "outputs": [
    {
     "name": "stdout",
     "output_type": "stream",
     "text": [
      "1\n",
      "2\n",
      "3\n",
      "4\n"
     ]
    }
   ],
   "source": [
    "import queue\n",
    "\n",
    "# inbuilt queue\n",
    "\n",
    "q = queue.Queue()\n",
    "q.put(1)\n",
    "q.put(2)\n",
    "q.put(3)\n",
    "q.put(4)\n",
    "\n",
    "while not q.empty():\n",
    "    print(q.get())"
   ]
  },
  {
   "cell_type": "code",
   "execution_count": 14,
   "metadata": {},
   "outputs": [
    {
     "name": "stdout",
     "output_type": "stream",
     "text": [
      "4\n",
      "3\n",
      "2\n",
      "1\n"
     ]
    }
   ],
   "source": [
    "import queue\n",
    "\n",
    "# inbuilt stack\n",
    "\n",
    "stack = queue.LifoQueue()\n",
    "stack.put(1)\n",
    "stack.put(2)\n",
    "stack.put(3)\n",
    "stack.put(4)\n",
    "\n",
    "while not stack.empty():\n",
    "    print(stack.get())"
   ]
  },
  {
   "cell_type": "markdown",
   "metadata": {},
   "source": [
    "### Balace parenthesis"
   ]
  },
  {
   "cell_type": "code",
   "execution_count": 15,
   "metadata": {},
   "outputs": [
    {
     "name": "stdout",
     "output_type": "stream",
     "text": [
      "{ a + [ b+ (c + d)] + (e + f) }\n",
      "true\n"
     ]
    }
   ],
   "source": [
    "\n",
    "def checkBalanced(expr):\n",
    "### Implement your code here\n",
    "    stack = []\n",
    "    for char in expr:\n",
    "        if char in '({[':\n",
    "            stack.append(char)\n",
    "        elif char is ')':\n",
    "            if (not stack or stack[-1]!='('):\n",
    "                return False\n",
    "            stack.pop()\n",
    "        elif char is '}':\n",
    "            if (not stack or stack[-1]!='{'):\n",
    "                return False\n",
    "            stack.pop()\n",
    "        elif char is ']':\n",
    "            if (not stack or stack[-1]!='['):\n",
    "                return False\n",
    "            stack.pop()\n",
    "            \n",
    "    if not stack:\n",
    "        return True\n",
    "    else:\n",
    "        return False\n",
    "\n",
    "exp=input()\n",
    "if checkBalanced(exp):\n",
    "    print('true')\n",
    "else:\n",
    "    print('false')"
   ]
  },
  {
   "cell_type": "markdown",
   "metadata": {},
   "source": []
  },
  {
   "cell_type": "markdown",
   "metadata": {},
   "source": [
    "### Redundant "
   ]
  },
  {
   "cell_type": "code",
   "execution_count": 1,
   "metadata": {},
   "outputs": [
    {
     "name": "stdout",
     "output_type": "stream",
     "text": [
      "((a + b)) \n",
      "true\n"
     ]
    }
   ],
   "source": [
    "def checkRedundant(string):\n",
    "#### Implement Your Code Here\n",
    "    stack = []\n",
    "    \n",
    "    for ch in string:\n",
    "        if ch != ')':\n",
    "            stack.append(ch)\n",
    "            \n",
    "        else:\n",
    "            if stack[-1] == '(':\n",
    "                return True\n",
    "            while stack[-1]!='(':\n",
    "                stack.pop()\n",
    "            stack.pop()\n",
    "            \n",
    "    return False\n",
    "string = input()\n",
    "ans = checkRedundant(string)\n",
    "if ans is True:\n",
    "    print('true')\n",
    "else:\n",
    "    print('false')"
   ]
  },
  {
   "cell_type": "markdown",
   "metadata": {},
   "source": [
    "### Reverse stack"
   ]
  },
  {
   "cell_type": "code",
   "execution_count": 2,
   "metadata": {},
   "outputs": [
    {
     "name": "stdout",
     "output_type": "stream",
     "text": [
      "4\n",
      "1 2 3 4\n",
      "1 2 3 4 "
     ]
    }
   ],
   "source": [
    "def reverseStack(s1,s2):\n",
    "    \n",
    "#### Implement the code here\n",
    "    if len(s1)<=1:\n",
    "        return\n",
    "    \n",
    "    while(len(s1)!=1):\n",
    "        ele = s1.pop()\n",
    "        s2.append(ele)\n",
    "    \n",
    "    last_ele = s1.pop()\n",
    "    \n",
    "    while(len(s2)!=0):\n",
    "        ele = s2.pop()\n",
    "        s1.append(ele)\n",
    "    \n",
    "    reverseStack(s1,s2)\n",
    "    s1.append(last_ele)\n",
    "\n",
    "from sys import setrecursionlimit\n",
    "setrecursionlimit(11000)\n",
    "n = int(input())\n",
    "s1 = [int(ele) for ele in input().split()]\n",
    "s2 = []\n",
    "reverseStack(s1,s2)\n",
    "while(len(s1) !=0):\n",
    "    print(s1.pop(),end= ' ')\n",
    "    \n",
    "# 4 is at top\n",
    "# 1 is at top"
   ]
  }
 ],
 "metadata": {
  "kernelspec": {
   "display_name": "Python 3",
   "language": "python",
   "name": "python3"
  },
  "language_info": {
   "codemirror_mode": {
    "name": "ipython",
    "version": 3
   },
   "file_extension": ".py",
   "mimetype": "text/x-python",
   "name": "python",
   "nbconvert_exporter": "python",
   "pygments_lexer": "ipython3",
   "version": "3.6.9"
  }
 },
 "nbformat": 4,
 "nbformat_minor": 2
}
