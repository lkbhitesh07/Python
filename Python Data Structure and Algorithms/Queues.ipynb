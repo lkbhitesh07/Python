{
 "cells": [
  {
   "cell_type": "markdown",
   "metadata": {},
   "source": [
    "### Queue using array"
   ]
  },
  {
   "cell_type": "code",
   "execution_count": 2,
   "metadata": {},
   "outputs": [
    {
     "name": "stdout",
     "output_type": "stream",
     "text": [
      "1\n",
      "2\n",
      "3\n",
      "4\n",
      "-1\n"
     ]
    }
   ],
   "source": [
    "class QueueUsingArray:\n",
    "    def __init__(self):\n",
    "        self.__arr = []\n",
    "        self.__count = 0\n",
    "        self.__front = 0\n",
    "        \n",
    "    def enqueue(self,data):\n",
    "        self.__arr.append(data)\n",
    "        self.__count += 1\n",
    "        \n",
    "    def dequeue(self):\n",
    "        if self.__count==0:\n",
    "            return -1\n",
    "        element = self.__arr[self.__front]\n",
    "        self.__front += 1\n",
    "        self.__count -= 1\n",
    "        return element\n",
    "    \n",
    "    def front(self):\n",
    "        if self.__count==0:\n",
    "            return -1\n",
    "        return self.__arr[self.__front]\n",
    "    \n",
    "    def size(self):\n",
    "        return self.__count\n",
    "    \n",
    "    def isEmpty(self):\n",
    "        return self.size() == 0\n",
    "    \n",
    "q = QueueUsingArray()\n",
    "q.enqueue(1)\n",
    "q.enqueue(2)\n",
    "q.enqueue(3)\n",
    "q.enqueue(4)\n",
    "while q.isEmpty() is False:\n",
    "    print(q.front())\n",
    "    q.dequeue()\n",
    "print(q.dequeue())"
   ]
  },
  {
   "cell_type": "markdown",
   "metadata": {},
   "source": [
    "### Queue using LL"
   ]
  },
  {
   "cell_type": "code",
   "execution_count": 1,
   "metadata": {},
   "outputs": [
    {
     "name": "stdout",
     "output_type": "stream",
     "text": [
      "1 3 1 4 1 63 1 21 1 9 2 3 1 7 3 -1\n",
      "3\n",
      "4\n",
      "4\n"
     ]
    }
   ],
   "source": [
    "class Node:\n",
    "    def __init__(self,data):\n",
    "        self.data = data\n",
    "        self.next = None\n",
    "        \n",
    "class QueueUsingLL:\n",
    "     \n",
    "    def __init__(self):\n",
    "        self.__count = 0\n",
    "        self.__head = None\n",
    "        self.__tail = None\n",
    "        \n",
    "    def enqueue(self,data):\n",
    "        new_node = Node(data)\n",
    "        if self.__head is None:\n",
    "            self.__head = new_node\n",
    "            self.__tail = new_node\n",
    "        \n",
    "        self.__tail.next = new_node\n",
    "        self.__tail = self.__tail.next\n",
    "        self.__count+=1\n",
    "        \n",
    "        \n",
    "    def dequeue(self):\n",
    "        if self.__head is None:\n",
    "            return \n",
    "        ele = self.__head.data\n",
    "        self.__head = self.__head.next\n",
    "        self.__count-=1\n",
    "        return ele\n",
    "        \n",
    "    \n",
    "    def front(self):\n",
    "        if self.__head is None:\n",
    "            return \n",
    "        return self.__head.data\n",
    "        \n",
    "        \n",
    "    def isEmpty(self):\n",
    "        if self.__count == 0:\n",
    "            return 'false'\n",
    "        else:\n",
    "            return 'true'\n",
    "       \n",
    "    \n",
    "    def getSize(self):\n",
    "        return self.__count\n",
    "\n",
    "    \n",
    "q = QueueUsingLL()\n",
    "li = [int(ele) for ele in input().split()]\n",
    "i=0\n",
    "while i<len(li):\n",
    "    choice = li[i]\n",
    "    if choice == -1:\n",
    "        break\n",
    "    elif choice == 1:\n",
    "        q.enqueue(li[i+1])\n",
    "        i+=1\n",
    "    elif choice == 2:\n",
    "        ans = q.dequeue()\n",
    "        if ans!=0:\n",
    "            print(ans)\n",
    "        else:\n",
    "            print(-1)\n",
    "    elif choice == 3:\n",
    "        ans = q.front()\n",
    "        if ans!=0:\n",
    "            print(ans)\n",
    "        else:\n",
    "            print(-1)\n",
    "    elif choice == 4:\n",
    "        print(q.getSize())\n",
    "    elif choice == 5:\n",
    "        if(q.isEmpty()):\n",
    "            print('true')\n",
    "        else:\n",
    "            print('false')\n",
    "    i+=1"
   ]
  },
  {
   "cell_type": "markdown",
   "metadata": {},
   "source": [
    "### inbuilt stack and queue"
   ]
  },
  {
   "cell_type": "code",
   "execution_count": 3,
   "metadata": {},
   "outputs": [
    {
     "name": "stdout",
     "output_type": "stream",
     "text": [
      "5\n",
      "4\n"
     ]
    }
   ],
   "source": [
    "# for inbuilt stack means for stack we can simply use list beacuse of\n",
    "s = [1,2,3]\n",
    "s.append(4)\n",
    "s.append(5)\n",
    "print(s.pop())\n",
    "print(s.pop())\n",
    "# hence this is simply inbuilt stack\n"
   ]
  },
  {
   "cell_type": "code",
   "execution_count": 5,
   "metadata": {},
   "outputs": [
    {
     "name": "stdout",
     "output_type": "stream",
     "text": [
      "1\n",
      "2\n",
      "3\n",
      "4\n"
     ]
    }
   ],
   "source": [
    "# for inbuilt queue we have inbuilt library for it we will import it and then use it\n",
    "import queue\n",
    "\n",
    "q = queue.Queue()\n",
    "q.put(1)\n",
    "q.put(2)\n",
    "q.put(3)\n",
    "q.put(4)\n",
    "\n",
    "while not q.empty():\n",
    "    print(q.get())"
   ]
  },
  {
   "cell_type": "code",
   "execution_count": 7,
   "metadata": {},
   "outputs": [
    {
     "name": "stdout",
     "output_type": "stream",
     "text": [
      "3\n",
      "2\n",
      "1\n"
     ]
    }
   ],
   "source": [
    "# for inbuilt stack from queue\n",
    "import queue\n",
    "\n",
    "q = queue.LifoQueue()\n",
    "q.put(1)\n",
    "q.put(2)\n",
    "q.put(3)\n",
    "\n",
    "while not q.empty():\n",
    "    print(q.get())"
   ]
  },
  {
   "cell_type": "markdown",
   "metadata": {},
   "source": [
    "### Queue using 2 stack"
   ]
  },
  {
   "cell_type": "code",
   "execution_count": 22,
   "metadata": {},
   "outputs": [
    {
     "name": "stdout",
     "output_type": "stream",
     "text": [
      "1\n",
      "2\n",
      "3\n",
      "4\n"
     ]
    }
   ],
   "source": [
    "class QueueUsing2Stack:\n",
    "    \n",
    "    def __init__(self):\n",
    "        self.__s1 = []\n",
    "        self.__s2 = []\n",
    "        \n",
    "    def enqueue(self,data): #o(n)\n",
    "        while len(self.__s1)!=0:\n",
    "            self.__s2.append(self.__s1.pop())\n",
    "        \n",
    "        self.__s1.append(data)\n",
    "        \n",
    "        while len(self.__s2)!=0:\n",
    "            self.__s1.append(self.__s2.pop())\n",
    "        return\n",
    "        \n",
    "    def dequeue(self):  #o(1)\n",
    "        if len(self.__s1)==0:\n",
    "            return -1\n",
    "        return self.__s1.pop()\n",
    "        \n",
    "    def front(self):\n",
    "        if len(self.__s1)==0:# we are insrting ele like 3 2 1 in list where 3 is new so front will be the last one.\n",
    "            return -1\n",
    "        return self.__s1[-1]\n",
    "        \n",
    "    def size(self):\n",
    "        return len(self.__s1)\n",
    "        \n",
    "    def isEmpty(self):\n",
    "        return self.size()==0\n",
    "    \n",
    "    \n",
    "q = QueueUsing2Stack()\n",
    "q.enqueue(1)\n",
    "q.enqueue(2)\n",
    "q.enqueue(3)\n",
    "q.enqueue(4)\n",
    "#while q.isEmpty() is False:\n",
    "print(q.front())\n",
    "q.dequeue()\n",
    "print(q.front())\n",
    "q.dequeue()\n",
    "print(q.front())\n",
    "q.dequeue()\n",
    "print(q.front())"
   ]
  },
  {
   "cell_type": "markdown",
   "metadata": {},
   "source": [
    "### Stack using 2 queue"
   ]
  },
  {
   "cell_type": "code",
   "execution_count": 4,
   "metadata": {},
   "outputs": [
    {
     "name": "stdout",
     "output_type": "stream",
     "text": [
      "4\n",
      "3\n",
      "2\n",
      "1\n"
     ]
    }
   ],
   "source": [
    "import queue\n",
    "class StackUsingQueues:\n",
    "    \n",
    "    def __init__(self):\n",
    "        self.q1 = queue.Queue()\n",
    "        self.q2 = queue.Queue()\n",
    "        \n",
    "        \n",
    "    def push(self,data):\n",
    "        self.q2.put(data)\n",
    "        while not self.q1.empty():\n",
    "            self.q2.put(self.q1.get())\n",
    "        self.q1,self.q2 = self.q2,self.q1\n",
    "        \n",
    "    def pop(self):\n",
    "        if self.q1.empty():\n",
    "            return\n",
    "        ele = self.q1.get()\n",
    "        return ele\n",
    "    \n",
    "    def top(self):\n",
    "        if self.q1.empty():\n",
    "            return\n",
    "        return self.q1.queue[0]   \n",
    "       \n",
    "    def getSize(self):\n",
    "        return self.q1.qsize()\n",
    "        \n",
    "    \n",
    "s = StackUsingQueues()\n",
    "s.push(1)\n",
    "s.push(2)\n",
    "s.push(3)\n",
    "s.push(4)\n",
    "while not s.q1.empty():\n",
    "    print(s.pop())"
   ]
  },
  {
   "cell_type": "code",
   "execution_count": 5,
   "metadata": {},
   "outputs": [
    {
     "name": "stdout",
     "output_type": "stream",
     "text": [
      "1 3 1 4 1 63 1 21 1 9 2 3 1 7 3 5\n",
      "9\n",
      "21\n",
      "7\n",
      "3 4 63 21 7 "
     ]
    }
   ],
   "source": [
    "import queue\n",
    "class StackUsingQueues:\n",
    "    \n",
    "    def __init__(self):\n",
    "        self.q1 = queue.Queue()\n",
    "        self.q2 = queue.Queue()\n",
    "        \n",
    "        \n",
    "    def push(self,data):  # o(1)\n",
    "        self.q1.put(data)       \n",
    "\n",
    "    def pop(self):    # o(n)   # easy he londe ek baar thande dimak se krio.\n",
    "        if self.q1.empty():\n",
    "            return\n",
    "        while self.q1.qsize()>1:\n",
    "            self.q2.put(self.q1.get())\n",
    "        ele = self.q1.get()\n",
    "        self.q1,self.q2 = self.q2,self.q1\n",
    "        return ele\n",
    "    \n",
    "    def top(self):\n",
    "        if self.q1.empty():\n",
    "            return\n",
    "        while self.q1.qsize()>1:\n",
    "            self.q2.put(self.q1.get())\n",
    "        ele = self.q1.get()\n",
    "        self.q2.put(ele)\n",
    "        self.q1,self.q2 = self.q2,self.q1\n",
    "        return ele\n",
    "       \n",
    "    def getSize(self):\n",
    "        return self.q1.qsize()\n",
    "    \n",
    "s = StackUsingQueues()\n",
    "li = [int(ele) for ele in input().split()]\n",
    "i=0\n",
    "while i<len(li):\n",
    "    choice = li[i]\n",
    "    if choice == -1:\n",
    "        break\n",
    "    elif choice == 1:\n",
    "        s.push(li[i+1])\n",
    "        i+=1\n",
    "    elif choice == 2:\n",
    "        ans = s.pop()\n",
    "        if ans!=0:\n",
    "            print(ans)\n",
    "        else:\n",
    "            print(-1)\n",
    "    elif choice == 3:\n",
    "        ans = s.top()\n",
    "        if ans!=0:\n",
    "            print(ans)\n",
    "        else:\n",
    "            print(-1)\n",
    "    elif choice == 4:\n",
    "        print(s.getSize())\n",
    "    elif choice == 5:\n",
    "        while s.q1.qsize() !=0:\n",
    "            print(s.q1.get(),end=' ')\n",
    "            \n",
    "    i+=1"
   ]
  }
 ],
 "metadata": {
  "kernelspec": {
   "display_name": "Python 3",
   "language": "python",
   "name": "python3"
  },
  "language_info": {
   "codemirror_mode": {
    "name": "ipython",
    "version": 3
   },
   "file_extension": ".py",
   "mimetype": "text/x-python",
   "name": "python",
   "nbconvert_exporter": "python",
   "pygments_lexer": "ipython3",
   "version": "3.6.9"
  }
 },
 "nbformat": 4,
 "nbformat_minor": 2
}
